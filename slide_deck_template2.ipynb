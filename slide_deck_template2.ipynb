{
 "cells": [
  {
   "cell_type": "markdown",
   "metadata": {
    "slideshow": {
     "slide_type": "slide"
    }
   },
   "source": [
    "## Prosper Loan Data Exploration"
   ]
  },
  {
   "cell_type": "markdown",
   "metadata": {
    "slideshow": {
     "slide_type": "skip"
    }
   },
   "source": [
    "### Preliminary Wrangling"
   ]
  },
  {
   "cell_type": "code",
   "execution_count": 1,
   "metadata": {
    "slideshow": {
     "slide_type": "skip"
    }
   },
   "outputs": [],
   "source": [
    "# importing require packages for prosper loan exploration\n",
    "from zipfile import ZipFile \n",
    "import pandas as pd\n",
    "import numpy as np\n",
    "import matplotlib.pyplot as plt\n",
    "%matplotlib inline\n",
    "import seaborn as sb\n",
    "import warnings"
   ]
  },
  {
   "cell_type": "markdown",
   "metadata": {
    "slideshow": {
     "slide_type": "skip"
    }
   },
   "source": [
    "### Accessing the Data "
   ]
  },
  {
   "cell_type": "code",
   "execution_count": 2,
   "metadata": {
    "slideshow": {
     "slide_type": "skip"
    }
   },
   "outputs": [],
   "source": [
    "#accessing data using pandas read_csv function and storing values in df variable\n",
    "df = pd.read_csv('prosperLoanData.csv')"
   ]
  },
  {
   "cell_type": "code",
   "execution_count": 3,
   "metadata": {
    "slideshow": {
     "slide_type": "skip"
    }
   },
   "outputs": [],
   "source": [
    "warnings.filterwarnings('ignore')"
   ]
  },
  {
   "cell_type": "code",
   "execution_count": 4,
   "metadata": {
    "slideshow": {
     "slide_type": "skip"
    }
   },
   "outputs": [],
   "source": [
    "# copying from original data to data_clean variable, because it doesn't affect the original datasets\n",
    "df_clean = df.copy()"
   ]
  },
  {
   "cell_type": "code",
   "execution_count": 5,
   "metadata": {
    "slideshow": {
     "slide_type": "skip"
    }
   },
   "outputs": [
    {
     "data": {
      "text/plain": [
       "(113937, 81)"
      ]
     },
     "execution_count": 5,
     "metadata": {},
     "output_type": "execute_result"
    }
   ],
   "source": [
    "df_clean.shape"
   ]
  },
  {
   "cell_type": "markdown",
   "metadata": {
    "slideshow": {
     "slide_type": "skip"
    }
   },
   "source": []
  },
  {
   "cell_type": "markdown",
   "metadata": {
    "slideshow": {
     "slide_type": "skip"
    }
   },
   "source": []
  },
  {
   "cell_type": "code",
   "execution_count": 6,
   "metadata": {
    "slideshow": {
     "slide_type": "skip"
    }
   },
   "outputs": [
    {
     "data": {
      "text/html": [
       "<div>\n",
       "<style scoped>\n",
       "    .dataframe tbody tr th:only-of-type {\n",
       "        vertical-align: middle;\n",
       "    }\n",
       "\n",
       "    .dataframe tbody tr th {\n",
       "        vertical-align: top;\n",
       "    }\n",
       "\n",
       "    .dataframe thead th {\n",
       "        text-align: right;\n",
       "    }\n",
       "</style>\n",
       "<table border=\"1\" class=\"dataframe\">\n",
       "  <thead>\n",
       "    <tr style=\"text-align: right;\">\n",
       "      <th></th>\n",
       "      <th>ListingKey</th>\n",
       "      <th>ListingNumber</th>\n",
       "      <th>ListingCreationDate</th>\n",
       "      <th>CreditGrade</th>\n",
       "      <th>Term</th>\n",
       "      <th>LoanStatus</th>\n",
       "      <th>ClosedDate</th>\n",
       "      <th>BorrowerAPR</th>\n",
       "      <th>BorrowerRate</th>\n",
       "      <th>LenderYield</th>\n",
       "      <th>...</th>\n",
       "      <th>LP_ServiceFees</th>\n",
       "      <th>LP_CollectionFees</th>\n",
       "      <th>LP_GrossPrincipalLoss</th>\n",
       "      <th>LP_NetPrincipalLoss</th>\n",
       "      <th>LP_NonPrincipalRecoverypayments</th>\n",
       "      <th>PercentFunded</th>\n",
       "      <th>Recommendations</th>\n",
       "      <th>InvestmentFromFriendsCount</th>\n",
       "      <th>InvestmentFromFriendsAmount</th>\n",
       "      <th>Investors</th>\n",
       "    </tr>\n",
       "  </thead>\n",
       "  <tbody>\n",
       "    <tr>\n",
       "      <th>0</th>\n",
       "      <td>1021339766868145413AB3B</td>\n",
       "      <td>193129</td>\n",
       "      <td>2007-08-26 19:09:29.263000000</td>\n",
       "      <td>C</td>\n",
       "      <td>36</td>\n",
       "      <td>Completed</td>\n",
       "      <td>2009-08-14 00:00:00</td>\n",
       "      <td>0.16516</td>\n",
       "      <td>0.1580</td>\n",
       "      <td>0.1380</td>\n",
       "      <td>...</td>\n",
       "      <td>-133.18</td>\n",
       "      <td>0.0</td>\n",
       "      <td>0.0</td>\n",
       "      <td>0.0</td>\n",
       "      <td>0.0</td>\n",
       "      <td>1.0</td>\n",
       "      <td>0</td>\n",
       "      <td>0</td>\n",
       "      <td>0.0</td>\n",
       "      <td>258</td>\n",
       "    </tr>\n",
       "    <tr>\n",
       "      <th>1</th>\n",
       "      <td>10273602499503308B223C1</td>\n",
       "      <td>1209647</td>\n",
       "      <td>2014-02-27 08:28:07.900000000</td>\n",
       "      <td>NaN</td>\n",
       "      <td>36</td>\n",
       "      <td>Current</td>\n",
       "      <td>NaN</td>\n",
       "      <td>0.12016</td>\n",
       "      <td>0.0920</td>\n",
       "      <td>0.0820</td>\n",
       "      <td>...</td>\n",
       "      <td>0.00</td>\n",
       "      <td>0.0</td>\n",
       "      <td>0.0</td>\n",
       "      <td>0.0</td>\n",
       "      <td>0.0</td>\n",
       "      <td>1.0</td>\n",
       "      <td>0</td>\n",
       "      <td>0</td>\n",
       "      <td>0.0</td>\n",
       "      <td>1</td>\n",
       "    </tr>\n",
       "    <tr>\n",
       "      <th>2</th>\n",
       "      <td>0EE9337825851032864889A</td>\n",
       "      <td>81716</td>\n",
       "      <td>2007-01-05 15:00:47.090000000</td>\n",
       "      <td>HR</td>\n",
       "      <td>36</td>\n",
       "      <td>Completed</td>\n",
       "      <td>2009-12-17 00:00:00</td>\n",
       "      <td>0.28269</td>\n",
       "      <td>0.2750</td>\n",
       "      <td>0.2400</td>\n",
       "      <td>...</td>\n",
       "      <td>-24.20</td>\n",
       "      <td>0.0</td>\n",
       "      <td>0.0</td>\n",
       "      <td>0.0</td>\n",
       "      <td>0.0</td>\n",
       "      <td>1.0</td>\n",
       "      <td>0</td>\n",
       "      <td>0</td>\n",
       "      <td>0.0</td>\n",
       "      <td>41</td>\n",
       "    </tr>\n",
       "    <tr>\n",
       "      <th>3</th>\n",
       "      <td>0EF5356002482715299901A</td>\n",
       "      <td>658116</td>\n",
       "      <td>2012-10-22 11:02:35.010000000</td>\n",
       "      <td>NaN</td>\n",
       "      <td>36</td>\n",
       "      <td>Current</td>\n",
       "      <td>NaN</td>\n",
       "      <td>0.12528</td>\n",
       "      <td>0.0974</td>\n",
       "      <td>0.0874</td>\n",
       "      <td>...</td>\n",
       "      <td>-108.01</td>\n",
       "      <td>0.0</td>\n",
       "      <td>0.0</td>\n",
       "      <td>0.0</td>\n",
       "      <td>0.0</td>\n",
       "      <td>1.0</td>\n",
       "      <td>0</td>\n",
       "      <td>0</td>\n",
       "      <td>0.0</td>\n",
       "      <td>158</td>\n",
       "    </tr>\n",
       "    <tr>\n",
       "      <th>4</th>\n",
       "      <td>0F023589499656230C5E3E2</td>\n",
       "      <td>909464</td>\n",
       "      <td>2013-09-14 18:38:39.097000000</td>\n",
       "      <td>NaN</td>\n",
       "      <td>36</td>\n",
       "      <td>Current</td>\n",
       "      <td>NaN</td>\n",
       "      <td>0.24614</td>\n",
       "      <td>0.2085</td>\n",
       "      <td>0.1985</td>\n",
       "      <td>...</td>\n",
       "      <td>-60.27</td>\n",
       "      <td>0.0</td>\n",
       "      <td>0.0</td>\n",
       "      <td>0.0</td>\n",
       "      <td>0.0</td>\n",
       "      <td>1.0</td>\n",
       "      <td>0</td>\n",
       "      <td>0</td>\n",
       "      <td>0.0</td>\n",
       "      <td>20</td>\n",
       "    </tr>\n",
       "  </tbody>\n",
       "</table>\n",
       "<p>5 rows × 81 columns</p>\n",
       "</div>"
      ],
      "text/plain": [
       "                ListingKey  ListingNumber            ListingCreationDate  \\\n",
       "0  1021339766868145413AB3B         193129  2007-08-26 19:09:29.263000000   \n",
       "1  10273602499503308B223C1        1209647  2014-02-27 08:28:07.900000000   \n",
       "2  0EE9337825851032864889A          81716  2007-01-05 15:00:47.090000000   \n",
       "3  0EF5356002482715299901A         658116  2012-10-22 11:02:35.010000000   \n",
       "4  0F023589499656230C5E3E2         909464  2013-09-14 18:38:39.097000000   \n",
       "\n",
       "  CreditGrade  Term LoanStatus           ClosedDate  BorrowerAPR  \\\n",
       "0           C    36  Completed  2009-08-14 00:00:00      0.16516   \n",
       "1         NaN    36    Current                  NaN      0.12016   \n",
       "2          HR    36  Completed  2009-12-17 00:00:00      0.28269   \n",
       "3         NaN    36    Current                  NaN      0.12528   \n",
       "4         NaN    36    Current                  NaN      0.24614   \n",
       "\n",
       "   BorrowerRate  LenderYield    ...     LP_ServiceFees  LP_CollectionFees  \\\n",
       "0        0.1580       0.1380    ...            -133.18                0.0   \n",
       "1        0.0920       0.0820    ...               0.00                0.0   \n",
       "2        0.2750       0.2400    ...             -24.20                0.0   \n",
       "3        0.0974       0.0874    ...            -108.01                0.0   \n",
       "4        0.2085       0.1985    ...             -60.27                0.0   \n",
       "\n",
       "   LP_GrossPrincipalLoss  LP_NetPrincipalLoss LP_NonPrincipalRecoverypayments  \\\n",
       "0                    0.0                  0.0                             0.0   \n",
       "1                    0.0                  0.0                             0.0   \n",
       "2                    0.0                  0.0                             0.0   \n",
       "3                    0.0                  0.0                             0.0   \n",
       "4                    0.0                  0.0                             0.0   \n",
       "\n",
       "   PercentFunded  Recommendations InvestmentFromFriendsCount  \\\n",
       "0            1.0                0                          0   \n",
       "1            1.0                0                          0   \n",
       "2            1.0                0                          0   \n",
       "3            1.0                0                          0   \n",
       "4            1.0                0                          0   \n",
       "\n",
       "  InvestmentFromFriendsAmount Investors  \n",
       "0                         0.0       258  \n",
       "1                         0.0         1  \n",
       "2                         0.0        41  \n",
       "3                         0.0       158  \n",
       "4                         0.0        20  \n",
       "\n",
       "[5 rows x 81 columns]"
      ]
     },
     "execution_count": 6,
     "metadata": {},
     "output_type": "execute_result"
    }
   ],
   "source": [
    "df_clean.head()"
   ]
  },
  {
   "cell_type": "code",
   "execution_count": 7,
   "metadata": {
    "slideshow": {
     "slide_type": "skip"
    }
   },
   "outputs": [
    {
     "name": "stdout",
     "output_type": "stream",
     "text": [
      "<class 'pandas.core.frame.DataFrame'>\n",
      "RangeIndex: 113937 entries, 0 to 113936\n",
      "Data columns (total 81 columns):\n",
      "ListingKey                             113937 non-null object\n",
      "ListingNumber                          113937 non-null int64\n",
      "ListingCreationDate                    113937 non-null object\n",
      "CreditGrade                            28953 non-null object\n",
      "Term                                   113937 non-null int64\n",
      "LoanStatus                             113937 non-null object\n",
      "ClosedDate                             55089 non-null object\n",
      "BorrowerAPR                            113912 non-null float64\n",
      "BorrowerRate                           113937 non-null float64\n",
      "LenderYield                            113937 non-null float64\n",
      "EstimatedEffectiveYield                84853 non-null float64\n",
      "EstimatedLoss                          84853 non-null float64\n",
      "EstimatedReturn                        84853 non-null float64\n",
      "ProsperRating (numeric)                84853 non-null float64\n",
      "ProsperRating (Alpha)                  84853 non-null object\n",
      "ProsperScore                           84853 non-null float64\n",
      "ListingCategory (numeric)              113937 non-null int64\n",
      "BorrowerState                          108422 non-null object\n",
      "Occupation                             110349 non-null object\n",
      "EmploymentStatus                       111682 non-null object\n",
      "EmploymentStatusDuration               106312 non-null float64\n",
      "IsBorrowerHomeowner                    113937 non-null bool\n",
      "CurrentlyInGroup                       113937 non-null bool\n",
      "GroupKey                               13341 non-null object\n",
      "DateCreditPulled                       113937 non-null object\n",
      "CreditScoreRangeLower                  113346 non-null float64\n",
      "CreditScoreRangeUpper                  113346 non-null float64\n",
      "FirstRecordedCreditLine                113240 non-null object\n",
      "CurrentCreditLines                     106333 non-null float64\n",
      "OpenCreditLines                        106333 non-null float64\n",
      "TotalCreditLinespast7years             113240 non-null float64\n",
      "OpenRevolvingAccounts                  113937 non-null int64\n",
      "OpenRevolvingMonthlyPayment            113937 non-null float64\n",
      "InquiriesLast6Months                   113240 non-null float64\n",
      "TotalInquiries                         112778 non-null float64\n",
      "CurrentDelinquencies                   113240 non-null float64\n",
      "AmountDelinquent                       106315 non-null float64\n",
      "DelinquenciesLast7Years                112947 non-null float64\n",
      "PublicRecordsLast10Years               113240 non-null float64\n",
      "PublicRecordsLast12Months              106333 non-null float64\n",
      "RevolvingCreditBalance                 106333 non-null float64\n",
      "BankcardUtilization                    106333 non-null float64\n",
      "AvailableBankcardCredit                106393 non-null float64\n",
      "TotalTrades                            106393 non-null float64\n",
      "TradesNeverDelinquent (percentage)     106393 non-null float64\n",
      "TradesOpenedLast6Months                106393 non-null float64\n",
      "DebtToIncomeRatio                      105383 non-null float64\n",
      "IncomeRange                            113937 non-null object\n",
      "IncomeVerifiable                       113937 non-null bool\n",
      "StatedMonthlyIncome                    113937 non-null float64\n",
      "LoanKey                                113937 non-null object\n",
      "TotalProsperLoans                      22085 non-null float64\n",
      "TotalProsperPaymentsBilled             22085 non-null float64\n",
      "OnTimeProsperPayments                  22085 non-null float64\n",
      "ProsperPaymentsLessThanOneMonthLate    22085 non-null float64\n",
      "ProsperPaymentsOneMonthPlusLate        22085 non-null float64\n",
      "ProsperPrincipalBorrowed               22085 non-null float64\n",
      "ProsperPrincipalOutstanding            22085 non-null float64\n",
      "ScorexChangeAtTimeOfListing            18928 non-null float64\n",
      "LoanCurrentDaysDelinquent              113937 non-null int64\n",
      "LoanFirstDefaultedCycleNumber          16952 non-null float64\n",
      "LoanMonthsSinceOrigination             113937 non-null int64\n",
      "LoanNumber                             113937 non-null int64\n",
      "LoanOriginalAmount                     113937 non-null int64\n",
      "LoanOriginationDate                    113937 non-null object\n",
      "LoanOriginationQuarter                 113937 non-null object\n",
      "MemberKey                              113937 non-null object\n",
      "MonthlyLoanPayment                     113937 non-null float64\n",
      "LP_CustomerPayments                    113937 non-null float64\n",
      "LP_CustomerPrincipalPayments           113937 non-null float64\n",
      "LP_InterestandFees                     113937 non-null float64\n",
      "LP_ServiceFees                         113937 non-null float64\n",
      "LP_CollectionFees                      113937 non-null float64\n",
      "LP_GrossPrincipalLoss                  113937 non-null float64\n",
      "LP_NetPrincipalLoss                    113937 non-null float64\n",
      "LP_NonPrincipalRecoverypayments        113937 non-null float64\n",
      "PercentFunded                          113937 non-null float64\n",
      "Recommendations                        113937 non-null int64\n",
      "InvestmentFromFriendsCount             113937 non-null int64\n",
      "InvestmentFromFriendsAmount            113937 non-null float64\n",
      "Investors                              113937 non-null int64\n",
      "dtypes: bool(3), float64(50), int64(11), object(17)\n",
      "memory usage: 68.1+ MB\n"
     ]
    }
   ],
   "source": [
    "df_clean.info()"
   ]
  },
  {
   "cell_type": "code",
   "execution_count": 8,
   "metadata": {
    "slideshow": {
     "slide_type": "skip"
    }
   },
   "outputs": [],
   "source": [
    "n = list(df_clean)"
   ]
  },
  {
   "cell_type": "code",
   "execution_count": 9,
   "metadata": {
    "slideshow": {
     "slide_type": "skip"
    }
   },
   "outputs": [],
   "source": [
    "n1 = n[0:10]"
   ]
  },
  {
   "cell_type": "code",
   "execution_count": 10,
   "metadata": {
    "slideshow": {
     "slide_type": "skip"
    }
   },
   "outputs": [
    {
     "data": {
      "text/html": [
       "<div>\n",
       "<style scoped>\n",
       "    .dataframe tbody tr th:only-of-type {\n",
       "        vertical-align: middle;\n",
       "    }\n",
       "\n",
       "    .dataframe tbody tr th {\n",
       "        vertical-align: top;\n",
       "    }\n",
       "\n",
       "    .dataframe thead th {\n",
       "        text-align: right;\n",
       "    }\n",
       "</style>\n",
       "<table border=\"1\" class=\"dataframe\">\n",
       "  <thead>\n",
       "    <tr style=\"text-align: right;\">\n",
       "      <th></th>\n",
       "      <th>ListingKey</th>\n",
       "      <th>ListingNumber</th>\n",
       "      <th>ListingCreationDate</th>\n",
       "      <th>CreditGrade</th>\n",
       "      <th>Term</th>\n",
       "      <th>LoanStatus</th>\n",
       "      <th>ClosedDate</th>\n",
       "      <th>BorrowerAPR</th>\n",
       "      <th>BorrowerRate</th>\n",
       "      <th>LenderYield</th>\n",
       "    </tr>\n",
       "  </thead>\n",
       "  <tbody>\n",
       "    <tr>\n",
       "      <th>0</th>\n",
       "      <td>1021339766868145413AB3B</td>\n",
       "      <td>193129</td>\n",
       "      <td>2007-08-26 19:09:29.263000000</td>\n",
       "      <td>C</td>\n",
       "      <td>36</td>\n",
       "      <td>Completed</td>\n",
       "      <td>2009-08-14 00:00:00</td>\n",
       "      <td>0.16516</td>\n",
       "      <td>0.1580</td>\n",
       "      <td>0.1380</td>\n",
       "    </tr>\n",
       "    <tr>\n",
       "      <th>1</th>\n",
       "      <td>10273602499503308B223C1</td>\n",
       "      <td>1209647</td>\n",
       "      <td>2014-02-27 08:28:07.900000000</td>\n",
       "      <td>NaN</td>\n",
       "      <td>36</td>\n",
       "      <td>Current</td>\n",
       "      <td>NaN</td>\n",
       "      <td>0.12016</td>\n",
       "      <td>0.0920</td>\n",
       "      <td>0.0820</td>\n",
       "    </tr>\n",
       "    <tr>\n",
       "      <th>2</th>\n",
       "      <td>0EE9337825851032864889A</td>\n",
       "      <td>81716</td>\n",
       "      <td>2007-01-05 15:00:47.090000000</td>\n",
       "      <td>HR</td>\n",
       "      <td>36</td>\n",
       "      <td>Completed</td>\n",
       "      <td>2009-12-17 00:00:00</td>\n",
       "      <td>0.28269</td>\n",
       "      <td>0.2750</td>\n",
       "      <td>0.2400</td>\n",
       "    </tr>\n",
       "    <tr>\n",
       "      <th>3</th>\n",
       "      <td>0EF5356002482715299901A</td>\n",
       "      <td>658116</td>\n",
       "      <td>2012-10-22 11:02:35.010000000</td>\n",
       "      <td>NaN</td>\n",
       "      <td>36</td>\n",
       "      <td>Current</td>\n",
       "      <td>NaN</td>\n",
       "      <td>0.12528</td>\n",
       "      <td>0.0974</td>\n",
       "      <td>0.0874</td>\n",
       "    </tr>\n",
       "    <tr>\n",
       "      <th>4</th>\n",
       "      <td>0F023589499656230C5E3E2</td>\n",
       "      <td>909464</td>\n",
       "      <td>2013-09-14 18:38:39.097000000</td>\n",
       "      <td>NaN</td>\n",
       "      <td>36</td>\n",
       "      <td>Current</td>\n",
       "      <td>NaN</td>\n",
       "      <td>0.24614</td>\n",
       "      <td>0.2085</td>\n",
       "      <td>0.1985</td>\n",
       "    </tr>\n",
       "    <tr>\n",
       "      <th>5</th>\n",
       "      <td>0F05359734824199381F61D</td>\n",
       "      <td>1074836</td>\n",
       "      <td>2013-12-14 08:26:37.093000000</td>\n",
       "      <td>NaN</td>\n",
       "      <td>60</td>\n",
       "      <td>Current</td>\n",
       "      <td>NaN</td>\n",
       "      <td>0.15425</td>\n",
       "      <td>0.1314</td>\n",
       "      <td>0.1214</td>\n",
       "    </tr>\n",
       "    <tr>\n",
       "      <th>6</th>\n",
       "      <td>0F0A3576754255009D63151</td>\n",
       "      <td>750899</td>\n",
       "      <td>2013-04-12 09:52:56.147000000</td>\n",
       "      <td>NaN</td>\n",
       "      <td>36</td>\n",
       "      <td>Current</td>\n",
       "      <td>NaN</td>\n",
       "      <td>0.31032</td>\n",
       "      <td>0.2712</td>\n",
       "      <td>0.2612</td>\n",
       "    </tr>\n",
       "    <tr>\n",
       "      <th>7</th>\n",
       "      <td>0F1035772717087366F9EA7</td>\n",
       "      <td>768193</td>\n",
       "      <td>2013-05-05 06:49:27.493000000</td>\n",
       "      <td>NaN</td>\n",
       "      <td>36</td>\n",
       "      <td>Current</td>\n",
       "      <td>NaN</td>\n",
       "      <td>0.23939</td>\n",
       "      <td>0.2019</td>\n",
       "      <td>0.1919</td>\n",
       "    </tr>\n",
       "    <tr>\n",
       "      <th>8</th>\n",
       "      <td>0F043596202561788EA13D5</td>\n",
       "      <td>1023355</td>\n",
       "      <td>2013-12-02 10:43:39.117000000</td>\n",
       "      <td>NaN</td>\n",
       "      <td>36</td>\n",
       "      <td>Current</td>\n",
       "      <td>NaN</td>\n",
       "      <td>0.07620</td>\n",
       "      <td>0.0629</td>\n",
       "      <td>0.0529</td>\n",
       "    </tr>\n",
       "    <tr>\n",
       "      <th>9</th>\n",
       "      <td>0F043596202561788EA13D5</td>\n",
       "      <td>1023355</td>\n",
       "      <td>2013-12-02 10:43:39.117000000</td>\n",
       "      <td>NaN</td>\n",
       "      <td>36</td>\n",
       "      <td>Current</td>\n",
       "      <td>NaN</td>\n",
       "      <td>0.07620</td>\n",
       "      <td>0.0629</td>\n",
       "      <td>0.0529</td>\n",
       "    </tr>\n",
       "    <tr>\n",
       "      <th>10</th>\n",
       "      <td>0F123545674891886D9F106</td>\n",
       "      <td>587746</td>\n",
       "      <td>2012-05-10 07:04:01.577000000</td>\n",
       "      <td>NaN</td>\n",
       "      <td>60</td>\n",
       "      <td>Current</td>\n",
       "      <td>NaN</td>\n",
       "      <td>0.27462</td>\n",
       "      <td>0.2489</td>\n",
       "      <td>0.2389</td>\n",
       "    </tr>\n",
       "    <tr>\n",
       "      <th>11</th>\n",
       "      <td>0F1734025150298088A5F2B</td>\n",
       "      <td>213551</td>\n",
       "      <td>2007-10-09 20:28:33.640000000</td>\n",
       "      <td>C</td>\n",
       "      <td>36</td>\n",
       "      <td>Completed</td>\n",
       "      <td>2008-01-07 00:00:00</td>\n",
       "      <td>0.15033</td>\n",
       "      <td>0.1325</td>\n",
       "      <td>0.1225</td>\n",
       "    </tr>\n",
       "    <tr>\n",
       "      <th>12</th>\n",
       "      <td>0F1A3597143888805163EF7</td>\n",
       "      <td>1081604</td>\n",
       "      <td>2013-12-15 20:01:10.757000000</td>\n",
       "      <td>NaN</td>\n",
       "      <td>36</td>\n",
       "      <td>Past Due (1-15 days)</td>\n",
       "      <td>NaN</td>\n",
       "      <td>0.17969</td>\n",
       "      <td>0.1435</td>\n",
       "      <td>0.1335</td>\n",
       "    </tr>\n",
       "    <tr>\n",
       "      <th>13</th>\n",
       "      <td>0F1C3583260311305D68F87</td>\n",
       "      <td>840820</td>\n",
       "      <td>2013-07-15 16:28:28.087000000</td>\n",
       "      <td>NaN</td>\n",
       "      <td>36</td>\n",
       "      <td>Current</td>\n",
       "      <td>NaN</td>\n",
       "      <td>0.13138</td>\n",
       "      <td>0.1034</td>\n",
       "      <td>0.0934</td>\n",
       "    </tr>\n",
       "    <tr>\n",
       "      <th>14</th>\n",
       "      <td>0F353575943675863D1AFC0</td>\n",
       "      <td>757359</td>\n",
       "      <td>2013-04-19 11:17:41.700000000</td>\n",
       "      <td>NaN</td>\n",
       "      <td>60</td>\n",
       "      <td>Current</td>\n",
       "      <td>NaN</td>\n",
       "      <td>0.11695</td>\n",
       "      <td>0.0949</td>\n",
       "      <td>0.0849</td>\n",
       "    </tr>\n",
       "    <tr>\n",
       "      <th>15</th>\n",
       "      <td>0F483544120452347F48121</td>\n",
       "      <td>577164</td>\n",
       "      <td>2012-04-10 09:14:46.297000000</td>\n",
       "      <td>NaN</td>\n",
       "      <td>36</td>\n",
       "      <td>Defaulted</td>\n",
       "      <td>2012-12-19 00:00:00</td>\n",
       "      <td>0.35797</td>\n",
       "      <td>0.3177</td>\n",
       "      <td>0.3077</td>\n",
       "    </tr>\n",
       "    <tr>\n",
       "      <th>16</th>\n",
       "      <td>0F4835843081468212F0892</td>\n",
       "      <td>841846</td>\n",
       "      <td>2013-07-16 12:42:48.680000000</td>\n",
       "      <td>NaN</td>\n",
       "      <td>60</td>\n",
       "      <td>Current</td>\n",
       "      <td>NaN</td>\n",
       "      <td>0.30748</td>\n",
       "      <td>0.2809</td>\n",
       "      <td>0.2709</td>\n",
       "    </tr>\n",
       "    <tr>\n",
       "      <th>17</th>\n",
       "      <td>0FDF336575182398852A8DC</td>\n",
       "      <td>31540</td>\n",
       "      <td>2006-08-15 12:21:09.433000000</td>\n",
       "      <td>AA</td>\n",
       "      <td>36</td>\n",
       "      <td>Chargedoff</td>\n",
       "      <td>2008-05-22 00:00:00</td>\n",
       "      <td>0.13202</td>\n",
       "      <td>0.1250</td>\n",
       "      <td>0.1175</td>\n",
       "    </tr>\n",
       "    <tr>\n",
       "      <th>18</th>\n",
       "      <td>0FF2357105361877390B58D</td>\n",
       "      <td>716058</td>\n",
       "      <td>2013-02-20 03:48:37.470000000</td>\n",
       "      <td>NaN</td>\n",
       "      <td>36</td>\n",
       "      <td>Current</td>\n",
       "      <td>NaN</td>\n",
       "      <td>0.12528</td>\n",
       "      <td>0.0974</td>\n",
       "      <td>0.0874</td>\n",
       "    </tr>\n",
       "    <tr>\n",
       "      <th>19</th>\n",
       "      <td>0FFC35866018516621B0D3F</td>\n",
       "      <td>875565</td>\n",
       "      <td>2013-08-21 06:49:02.093000000</td>\n",
       "      <td>NaN</td>\n",
       "      <td>60</td>\n",
       "      <td>Current</td>\n",
       "      <td>NaN</td>\n",
       "      <td>0.24754</td>\n",
       "      <td>0.2225</td>\n",
       "      <td>0.2125</td>\n",
       "    </tr>\n",
       "    <tr>\n",
       "      <th>20</th>\n",
       "      <td>101635959323992333B3C70</td>\n",
       "      <td>1011916</td>\n",
       "      <td>2013-11-22 11:35:02.987000000</td>\n",
       "      <td>NaN</td>\n",
       "      <td>36</td>\n",
       "      <td>Current</td>\n",
       "      <td>NaN</td>\n",
       "      <td>0.16732</td>\n",
       "      <td>0.1314</td>\n",
       "      <td>0.1214</td>\n",
       "    </tr>\n",
       "    <tr>\n",
       "      <th>21</th>\n",
       "      <td>1017340630713945364DA6B</td>\n",
       "      <td>241498</td>\n",
       "      <td>2007-11-30 20:33:49.227000000</td>\n",
       "      <td>D</td>\n",
       "      <td>36</td>\n",
       "      <td>Completed</td>\n",
       "      <td>2010-12-12 00:00:00</td>\n",
       "      <td>0.21488</td>\n",
       "      <td>0.2075</td>\n",
       "      <td>0.1975</td>\n",
       "    </tr>\n",
       "    <tr>\n",
       "      <th>22</th>\n",
       "      <td>101735700321773921526BF</td>\n",
       "      <td>706927</td>\n",
       "      <td>2013-01-30 09:36:13.783000000</td>\n",
       "      <td>NaN</td>\n",
       "      <td>36</td>\n",
       "      <td>Current</td>\n",
       "      <td>NaN</td>\n",
       "      <td>0.35356</td>\n",
       "      <td>0.3134</td>\n",
       "      <td>0.3034</td>\n",
       "    </tr>\n",
       "    <tr>\n",
       "      <th>23</th>\n",
       "      <td>101B35764008108187B2EBA</td>\n",
       "      <td>758964</td>\n",
       "      <td>2013-04-22 13:29:19.073000000</td>\n",
       "      <td>NaN</td>\n",
       "      <td>36</td>\n",
       "      <td>Defaulted</td>\n",
       "      <td>2013-12-26 00:00:00</td>\n",
       "      <td>0.28032</td>\n",
       "      <td>0.2419</td>\n",
       "      <td>0.2319</td>\n",
       "    </tr>\n",
       "    <tr>\n",
       "      <th>24</th>\n",
       "      <td>101B3596709094692AC79C0</td>\n",
       "      <td>1046345</td>\n",
       "      <td>2013-12-03 11:34:46.127000000</td>\n",
       "      <td>NaN</td>\n",
       "      <td>36</td>\n",
       "      <td>Current</td>\n",
       "      <td>NaN</td>\n",
       "      <td>0.19859</td>\n",
       "      <td>0.1620</td>\n",
       "      <td>0.1520</td>\n",
       "    </tr>\n",
       "    <tr>\n",
       "      <th>25</th>\n",
       "      <td>10223590888942486E3826E</td>\n",
       "      <td>950067</td>\n",
       "      <td>2013-10-02 14:31:09.157000000</td>\n",
       "      <td>NaN</td>\n",
       "      <td>36</td>\n",
       "      <td>Current</td>\n",
       "      <td>NaN</td>\n",
       "      <td>0.30182</td>\n",
       "      <td>0.2629</td>\n",
       "      <td>0.2529</td>\n",
       "    </tr>\n",
       "    <tr>\n",
       "      <th>26</th>\n",
       "      <td>0F4F3571508214190FD75CB</td>\n",
       "      <td>713131</td>\n",
       "      <td>2013-02-12 18:07:31.690000000</td>\n",
       "      <td>NaN</td>\n",
       "      <td>60</td>\n",
       "      <td>Completed</td>\n",
       "      <td>2013-10-22 00:00:00</td>\n",
       "      <td>0.30748</td>\n",
       "      <td>0.2809</td>\n",
       "      <td>0.2709</td>\n",
       "    </tr>\n",
       "    <tr>\n",
       "      <th>27</th>\n",
       "      <td>0F5034867864161084F3789</td>\n",
       "      <td>463083</td>\n",
       "      <td>2010-06-16 16:23:44.533000000</td>\n",
       "      <td>NaN</td>\n",
       "      <td>36</td>\n",
       "      <td>Completed</td>\n",
       "      <td>2013-07-03 00:00:00</td>\n",
       "      <td>0.11296</td>\n",
       "      <td>0.0920</td>\n",
       "      <td>0.0820</td>\n",
       "    </tr>\n",
       "    <tr>\n",
       "      <th>28</th>\n",
       "      <td>0F53359346357513247D86B</td>\n",
       "      <td>989519</td>\n",
       "      <td>2013-11-02 16:01:28.050000000</td>\n",
       "      <td>NaN</td>\n",
       "      <td>36</td>\n",
       "      <td>Current</td>\n",
       "      <td>NaN</td>\n",
       "      <td>0.20268</td>\n",
       "      <td>0.1660</td>\n",
       "      <td>0.1560</td>\n",
       "    </tr>\n",
       "    <tr>\n",
       "      <th>29</th>\n",
       "      <td>0F563597161095613517437</td>\n",
       "      <td>1051243</td>\n",
       "      <td>2013-12-17 09:18:33.220000000</td>\n",
       "      <td>NaN</td>\n",
       "      <td>36</td>\n",
       "      <td>Current</td>\n",
       "      <td>NaN</td>\n",
       "      <td>0.15223</td>\n",
       "      <td>0.1239</td>\n",
       "      <td>0.1139</td>\n",
       "    </tr>\n",
       "    <tr>\n",
       "      <th>...</th>\n",
       "      <td>...</td>\n",
       "      <td>...</td>\n",
       "      <td>...</td>\n",
       "      <td>...</td>\n",
       "      <td>...</td>\n",
       "      <td>...</td>\n",
       "      <td>...</td>\n",
       "      <td>...</td>\n",
       "      <td>...</td>\n",
       "      <td>...</td>\n",
       "    </tr>\n",
       "    <tr>\n",
       "      <th>113907</th>\n",
       "      <td>C982359388882926442DE72</td>\n",
       "      <td>1005215</td>\n",
       "      <td>2013-11-09 06:55:05.690000000</td>\n",
       "      <td>NaN</td>\n",
       "      <td>36</td>\n",
       "      <td>Current</td>\n",
       "      <td>NaN</td>\n",
       "      <td>0.35356</td>\n",
       "      <td>0.3134</td>\n",
       "      <td>0.3034</td>\n",
       "    </tr>\n",
       "    <tr>\n",
       "      <th>113908</th>\n",
       "      <td>C9843500054876019D611A1</td>\n",
       "      <td>486057</td>\n",
       "      <td>2010-11-29 10:40:09.730000000</td>\n",
       "      <td>NaN</td>\n",
       "      <td>36</td>\n",
       "      <td>Completed</td>\n",
       "      <td>2011-01-31 00:00:00</td>\n",
       "      <td>0.35858</td>\n",
       "      <td>0.3220</td>\n",
       "      <td>0.3120</td>\n",
       "    </tr>\n",
       "    <tr>\n",
       "      <th>113909</th>\n",
       "      <td>C98635564651525938EB38E</td>\n",
       "      <td>635880</td>\n",
       "      <td>2012-09-08 10:34:38.837000000</td>\n",
       "      <td>NaN</td>\n",
       "      <td>60</td>\n",
       "      <td>Current</td>\n",
       "      <td>NaN</td>\n",
       "      <td>0.27554</td>\n",
       "      <td>0.2498</td>\n",
       "      <td>0.2398</td>\n",
       "    </tr>\n",
       "    <tr>\n",
       "      <th>113910</th>\n",
       "      <td>C9873600264828351437CAB</td>\n",
       "      <td>1161059</td>\n",
       "      <td>2014-01-24 19:56:49.960000000</td>\n",
       "      <td>NaN</td>\n",
       "      <td>36</td>\n",
       "      <td>Current</td>\n",
       "      <td>NaN</td>\n",
       "      <td>0.32446</td>\n",
       "      <td>0.2850</td>\n",
       "      <td>0.2750</td>\n",
       "    </tr>\n",
       "    <tr>\n",
       "      <th>113911</th>\n",
       "      <td>C9883594035073098BC5D51</td>\n",
       "      <td>996496</td>\n",
       "      <td>2013-11-15 11:42:47.540000000</td>\n",
       "      <td>NaN</td>\n",
       "      <td>36</td>\n",
       "      <td>Current</td>\n",
       "      <td>NaN</td>\n",
       "      <td>0.25330</td>\n",
       "      <td>0.2155</td>\n",
       "      <td>0.2055</td>\n",
       "    </tr>\n",
       "    <tr>\n",
       "      <th>113912</th>\n",
       "      <td>C98A3597264633447D66DF9</td>\n",
       "      <td>1083677</td>\n",
       "      <td>2013-12-16 16:36:00.990000000</td>\n",
       "      <td>NaN</td>\n",
       "      <td>36</td>\n",
       "      <td>Current</td>\n",
       "      <td>NaN</td>\n",
       "      <td>0.06726</td>\n",
       "      <td>0.0605</td>\n",
       "      <td>0.0505</td>\n",
       "    </tr>\n",
       "    <tr>\n",
       "      <th>113913</th>\n",
       "      <td>D2013482695428940FAD9E3</td>\n",
       "      <td>455673</td>\n",
       "      <td>2010-04-25 15:13:27.963000000</td>\n",
       "      <td>NaN</td>\n",
       "      <td>36</td>\n",
       "      <td>Completed</td>\n",
       "      <td>2013-05-05 00:00:00</td>\n",
       "      <td>0.12410</td>\n",
       "      <td>0.1030</td>\n",
       "      <td>0.0930</td>\n",
       "    </tr>\n",
       "    <tr>\n",
       "      <th>113914</th>\n",
       "      <td>D20533652658825353F6597</td>\n",
       "      <td>30223</td>\n",
       "      <td>2006-08-09 14:34:40.010000000</td>\n",
       "      <td>HR</td>\n",
       "      <td>36</td>\n",
       "      <td>Defaulted</td>\n",
       "      <td>2007-03-19 00:00:00</td>\n",
       "      <td>0.25757</td>\n",
       "      <td>0.2500</td>\n",
       "      <td>0.2450</td>\n",
       "    </tr>\n",
       "    <tr>\n",
       "      <th>113915</th>\n",
       "      <td>D2053427325575423785798</td>\n",
       "      <td>374730</td>\n",
       "      <td>2008-07-29 05:22:29.390000000</td>\n",
       "      <td>D</td>\n",
       "      <td>36</td>\n",
       "      <td>Completed</td>\n",
       "      <td>2011-09-28 00:00:00</td>\n",
       "      <td>0.22237</td>\n",
       "      <td>0.2000</td>\n",
       "      <td>0.1900</td>\n",
       "    </tr>\n",
       "    <tr>\n",
       "      <th>113916</th>\n",
       "      <td>D2063562664602024E13D82</td>\n",
       "      <td>667047</td>\n",
       "      <td>2012-11-08 20:07:36.600000000</td>\n",
       "      <td>NaN</td>\n",
       "      <td>36</td>\n",
       "      <td>Current</td>\n",
       "      <td>NaN</td>\n",
       "      <td>0.33286</td>\n",
       "      <td>0.2932</td>\n",
       "      <td>0.2832</td>\n",
       "    </tr>\n",
       "    <tr>\n",
       "      <th>113917</th>\n",
       "      <td>D2063594229009539839457</td>\n",
       "      <td>1028126</td>\n",
       "      <td>2013-11-23 04:52:50.057000000</td>\n",
       "      <td>NaN</td>\n",
       "      <td>36</td>\n",
       "      <td>Current</td>\n",
       "      <td>NaN</td>\n",
       "      <td>0.32446</td>\n",
       "      <td>0.2850</td>\n",
       "      <td>0.2750</td>\n",
       "    </tr>\n",
       "    <tr>\n",
       "      <th>113918</th>\n",
       "      <td>D207342464194217591D1E1</td>\n",
       "      <td>353488</td>\n",
       "      <td>2008-06-19 12:02:53.300000000</td>\n",
       "      <td>A</td>\n",
       "      <td>36</td>\n",
       "      <td>Defaulted</td>\n",
       "      <td>2011-01-27 00:00:00</td>\n",
       "      <td>0.12201</td>\n",
       "      <td>0.1080</td>\n",
       "      <td>0.0980</td>\n",
       "    </tr>\n",
       "    <tr>\n",
       "      <th>113919</th>\n",
       "      <td>D20C3577637248543A1F80C</td>\n",
       "      <td>772509</td>\n",
       "      <td>2013-05-07 18:49:59.750000000</td>\n",
       "      <td>NaN</td>\n",
       "      <td>36</td>\n",
       "      <td>Current</td>\n",
       "      <td>NaN</td>\n",
       "      <td>0.27285</td>\n",
       "      <td>0.2346</td>\n",
       "      <td>0.2246</td>\n",
       "    </tr>\n",
       "    <tr>\n",
       "      <th>113920</th>\n",
       "      <td>D20E358076984586576526D</td>\n",
       "      <td>804763</td>\n",
       "      <td>2013-06-11 05:49:40.247000000</td>\n",
       "      <td>NaN</td>\n",
       "      <td>36</td>\n",
       "      <td>Current</td>\n",
       "      <td>NaN</td>\n",
       "      <td>0.35356</td>\n",
       "      <td>0.3134</td>\n",
       "      <td>0.3034</td>\n",
       "    </tr>\n",
       "    <tr>\n",
       "      <th>113921</th>\n",
       "      <td>D21A33647075665665BE266</td>\n",
       "      <td>4</td>\n",
       "      <td>2005-11-09 20:44:28.847000000</td>\n",
       "      <td>AA</td>\n",
       "      <td>36</td>\n",
       "      <td>Completed</td>\n",
       "      <td>2005-11-25 00:00:00</td>\n",
       "      <td>NaN</td>\n",
       "      <td>0.0400</td>\n",
       "      <td>0.0350</td>\n",
       "    </tr>\n",
       "    <tr>\n",
       "      <th>113922</th>\n",
       "      <td>D2293427338962159DA5143</td>\n",
       "      <td>379986</td>\n",
       "      <td>2008-08-08 16:58:54.760000000</td>\n",
       "      <td>C</td>\n",
       "      <td>36</td>\n",
       "      <td>Completed</td>\n",
       "      <td>2011-08-19 00:00:00</td>\n",
       "      <td>0.15094</td>\n",
       "      <td>0.1295</td>\n",
       "      <td>0.1195</td>\n",
       "    </tr>\n",
       "    <tr>\n",
       "      <th>113923</th>\n",
       "      <td>E334343080922352965DF86</td>\n",
       "      <td>395877</td>\n",
       "      <td>2008-09-10 08:26:30.537000000</td>\n",
       "      <td>B</td>\n",
       "      <td>36</td>\n",
       "      <td>Completed</td>\n",
       "      <td>2011-09-23 00:00:00</td>\n",
       "      <td>0.22378</td>\n",
       "      <td>0.2089</td>\n",
       "      <td>0.1989</td>\n",
       "    </tr>\n",
       "    <tr>\n",
       "      <th>113924</th>\n",
       "      <td>E340356181565702714DBCE</td>\n",
       "      <td>657862</td>\n",
       "      <td>2012-10-20 19:15:52.670000000</td>\n",
       "      <td>NaN</td>\n",
       "      <td>60</td>\n",
       "      <td>Current</td>\n",
       "      <td>NaN</td>\n",
       "      <td>0.17317</td>\n",
       "      <td>0.1499</td>\n",
       "      <td>0.1399</td>\n",
       "    </tr>\n",
       "    <tr>\n",
       "      <th>113925</th>\n",
       "      <td>E3423576946812123E4798D</td>\n",
       "      <td>760946</td>\n",
       "      <td>2013-04-25 13:54:45.017000000</td>\n",
       "      <td>NaN</td>\n",
       "      <td>36</td>\n",
       "      <td>Current</td>\n",
       "      <td>NaN</td>\n",
       "      <td>0.31032</td>\n",
       "      <td>0.2712</td>\n",
       "      <td>0.2612</td>\n",
       "    </tr>\n",
       "    <tr>\n",
       "      <th>113926</th>\n",
       "      <td>E34333654295683286C35C2</td>\n",
       "      <td>28121</td>\n",
       "      <td>2006-08-01 10:31:31.143000000</td>\n",
       "      <td>E</td>\n",
       "      <td>36</td>\n",
       "      <td>Defaulted</td>\n",
       "      <td>2007-09-06 00:00:00</td>\n",
       "      <td>0.29776</td>\n",
       "      <td>0.2900</td>\n",
       "      <td>0.2850</td>\n",
       "    </tr>\n",
       "    <tr>\n",
       "      <th>113927</th>\n",
       "      <td>E3433419834735803891976</td>\n",
       "      <td>322787</td>\n",
       "      <td>2008-04-30 21:25:19.670000000</td>\n",
       "      <td>AA</td>\n",
       "      <td>36</td>\n",
       "      <td>Completed</td>\n",
       "      <td>2011-05-09 00:00:00</td>\n",
       "      <td>0.07469</td>\n",
       "      <td>0.0679</td>\n",
       "      <td>0.0579</td>\n",
       "    </tr>\n",
       "    <tr>\n",
       "      <th>113928</th>\n",
       "      <td>E34935176664905343E01EA</td>\n",
       "      <td>510097</td>\n",
       "      <td>2011-06-06 19:02:44.443000000</td>\n",
       "      <td>NaN</td>\n",
       "      <td>36</td>\n",
       "      <td>Completed</td>\n",
       "      <td>2011-09-19 00:00:00</td>\n",
       "      <td>0.22362</td>\n",
       "      <td>0.1899</td>\n",
       "      <td>0.1799</td>\n",
       "    </tr>\n",
       "    <tr>\n",
       "      <th>113929</th>\n",
       "      <td>E3553583161337791FCB87F</td>\n",
       "      <td>830413</td>\n",
       "      <td>2013-07-06 17:40:01.657000000</td>\n",
       "      <td>NaN</td>\n",
       "      <td>36</td>\n",
       "      <td>Completed</td>\n",
       "      <td>2014-02-07 00:00:00</td>\n",
       "      <td>0.30285</td>\n",
       "      <td>0.2639</td>\n",
       "      <td>0.2539</td>\n",
       "    </tr>\n",
       "    <tr>\n",
       "      <th>113930</th>\n",
       "      <td>E35D3584034795373BCD69A</td>\n",
       "      <td>831523</td>\n",
       "      <td>2013-07-08 10:24:49.700000000</td>\n",
       "      <td>NaN</td>\n",
       "      <td>36</td>\n",
       "      <td>Current</td>\n",
       "      <td>NaN</td>\n",
       "      <td>0.20053</td>\n",
       "      <td>0.1639</td>\n",
       "      <td>0.1539</td>\n",
       "    </tr>\n",
       "    <tr>\n",
       "      <th>113931</th>\n",
       "      <td>E36F36005339663245C20F8</td>\n",
       "      <td>1141292</td>\n",
       "      <td>2014-01-16 20:13:08.040000000</td>\n",
       "      <td>NaN</td>\n",
       "      <td>60</td>\n",
       "      <td>Current</td>\n",
       "      <td>NaN</td>\n",
       "      <td>0.15016</td>\n",
       "      <td>0.1274</td>\n",
       "      <td>0.1174</td>\n",
       "    </tr>\n",
       "    <tr>\n",
       "      <th>113932</th>\n",
       "      <td>E6D9357655724827169606C</td>\n",
       "      <td>753087</td>\n",
       "      <td>2013-04-14 05:55:02.663000000</td>\n",
       "      <td>NaN</td>\n",
       "      <td>36</td>\n",
       "      <td>Current</td>\n",
       "      <td>NaN</td>\n",
       "      <td>0.22354</td>\n",
       "      <td>0.1864</td>\n",
       "      <td>0.1764</td>\n",
       "    </tr>\n",
       "    <tr>\n",
       "      <th>113933</th>\n",
       "      <td>E6DB353036033497292EE43</td>\n",
       "      <td>537216</td>\n",
       "      <td>2011-11-03 20:42:55.333000000</td>\n",
       "      <td>NaN</td>\n",
       "      <td>36</td>\n",
       "      <td>FinalPaymentInProgress</td>\n",
       "      <td>NaN</td>\n",
       "      <td>0.13220</td>\n",
       "      <td>0.1110</td>\n",
       "      <td>0.1010</td>\n",
       "    </tr>\n",
       "    <tr>\n",
       "      <th>113934</th>\n",
       "      <td>E6E13596170052029692BB1</td>\n",
       "      <td>1069178</td>\n",
       "      <td>2013-12-13 05:49:12.703000000</td>\n",
       "      <td>NaN</td>\n",
       "      <td>60</td>\n",
       "      <td>Current</td>\n",
       "      <td>NaN</td>\n",
       "      <td>0.23984</td>\n",
       "      <td>0.2150</td>\n",
       "      <td>0.2050</td>\n",
       "    </tr>\n",
       "    <tr>\n",
       "      <th>113935</th>\n",
       "      <td>E6EB3531504622671970D9E</td>\n",
       "      <td>539056</td>\n",
       "      <td>2011-11-14 13:18:26.597000000</td>\n",
       "      <td>NaN</td>\n",
       "      <td>60</td>\n",
       "      <td>Completed</td>\n",
       "      <td>2013-08-13 00:00:00</td>\n",
       "      <td>0.28408</td>\n",
       "      <td>0.2605</td>\n",
       "      <td>0.2505</td>\n",
       "    </tr>\n",
       "    <tr>\n",
       "      <th>113936</th>\n",
       "      <td>E6ED3600409833199F711B7</td>\n",
       "      <td>1140093</td>\n",
       "      <td>2014-01-15 09:27:37.657000000</td>\n",
       "      <td>NaN</td>\n",
       "      <td>36</td>\n",
       "      <td>Current</td>\n",
       "      <td>NaN</td>\n",
       "      <td>0.13189</td>\n",
       "      <td>0.1039</td>\n",
       "      <td>0.0939</td>\n",
       "    </tr>\n",
       "  </tbody>\n",
       "</table>\n",
       "<p>113937 rows × 10 columns</p>\n",
       "</div>"
      ],
      "text/plain": [
       "                     ListingKey  ListingNumber            ListingCreationDate  \\\n",
       "0       1021339766868145413AB3B         193129  2007-08-26 19:09:29.263000000   \n",
       "1       10273602499503308B223C1        1209647  2014-02-27 08:28:07.900000000   \n",
       "2       0EE9337825851032864889A          81716  2007-01-05 15:00:47.090000000   \n",
       "3       0EF5356002482715299901A         658116  2012-10-22 11:02:35.010000000   \n",
       "4       0F023589499656230C5E3E2         909464  2013-09-14 18:38:39.097000000   \n",
       "5       0F05359734824199381F61D        1074836  2013-12-14 08:26:37.093000000   \n",
       "6       0F0A3576754255009D63151         750899  2013-04-12 09:52:56.147000000   \n",
       "7       0F1035772717087366F9EA7         768193  2013-05-05 06:49:27.493000000   \n",
       "8       0F043596202561788EA13D5        1023355  2013-12-02 10:43:39.117000000   \n",
       "9       0F043596202561788EA13D5        1023355  2013-12-02 10:43:39.117000000   \n",
       "10      0F123545674891886D9F106         587746  2012-05-10 07:04:01.577000000   \n",
       "11      0F1734025150298088A5F2B         213551  2007-10-09 20:28:33.640000000   \n",
       "12      0F1A3597143888805163EF7        1081604  2013-12-15 20:01:10.757000000   \n",
       "13      0F1C3583260311305D68F87         840820  2013-07-15 16:28:28.087000000   \n",
       "14      0F353575943675863D1AFC0         757359  2013-04-19 11:17:41.700000000   \n",
       "15      0F483544120452347F48121         577164  2012-04-10 09:14:46.297000000   \n",
       "16      0F4835843081468212F0892         841846  2013-07-16 12:42:48.680000000   \n",
       "17      0FDF336575182398852A8DC          31540  2006-08-15 12:21:09.433000000   \n",
       "18      0FF2357105361877390B58D         716058  2013-02-20 03:48:37.470000000   \n",
       "19      0FFC35866018516621B0D3F         875565  2013-08-21 06:49:02.093000000   \n",
       "20      101635959323992333B3C70        1011916  2013-11-22 11:35:02.987000000   \n",
       "21      1017340630713945364DA6B         241498  2007-11-30 20:33:49.227000000   \n",
       "22      101735700321773921526BF         706927  2013-01-30 09:36:13.783000000   \n",
       "23      101B35764008108187B2EBA         758964  2013-04-22 13:29:19.073000000   \n",
       "24      101B3596709094692AC79C0        1046345  2013-12-03 11:34:46.127000000   \n",
       "25      10223590888942486E3826E         950067  2013-10-02 14:31:09.157000000   \n",
       "26      0F4F3571508214190FD75CB         713131  2013-02-12 18:07:31.690000000   \n",
       "27      0F5034867864161084F3789         463083  2010-06-16 16:23:44.533000000   \n",
       "28      0F53359346357513247D86B         989519  2013-11-02 16:01:28.050000000   \n",
       "29      0F563597161095613517437        1051243  2013-12-17 09:18:33.220000000   \n",
       "...                         ...            ...                            ...   \n",
       "113907  C982359388882926442DE72        1005215  2013-11-09 06:55:05.690000000   \n",
       "113908  C9843500054876019D611A1         486057  2010-11-29 10:40:09.730000000   \n",
       "113909  C98635564651525938EB38E         635880  2012-09-08 10:34:38.837000000   \n",
       "113910  C9873600264828351437CAB        1161059  2014-01-24 19:56:49.960000000   \n",
       "113911  C9883594035073098BC5D51         996496  2013-11-15 11:42:47.540000000   \n",
       "113912  C98A3597264633447D66DF9        1083677  2013-12-16 16:36:00.990000000   \n",
       "113913  D2013482695428940FAD9E3         455673  2010-04-25 15:13:27.963000000   \n",
       "113914  D20533652658825353F6597          30223  2006-08-09 14:34:40.010000000   \n",
       "113915  D2053427325575423785798         374730  2008-07-29 05:22:29.390000000   \n",
       "113916  D2063562664602024E13D82         667047  2012-11-08 20:07:36.600000000   \n",
       "113917  D2063594229009539839457        1028126  2013-11-23 04:52:50.057000000   \n",
       "113918  D207342464194217591D1E1         353488  2008-06-19 12:02:53.300000000   \n",
       "113919  D20C3577637248543A1F80C         772509  2013-05-07 18:49:59.750000000   \n",
       "113920  D20E358076984586576526D         804763  2013-06-11 05:49:40.247000000   \n",
       "113921  D21A33647075665665BE266              4  2005-11-09 20:44:28.847000000   \n",
       "113922  D2293427338962159DA5143         379986  2008-08-08 16:58:54.760000000   \n",
       "113923  E334343080922352965DF86         395877  2008-09-10 08:26:30.537000000   \n",
       "113924  E340356181565702714DBCE         657862  2012-10-20 19:15:52.670000000   \n",
       "113925  E3423576946812123E4798D         760946  2013-04-25 13:54:45.017000000   \n",
       "113926  E34333654295683286C35C2          28121  2006-08-01 10:31:31.143000000   \n",
       "113927  E3433419834735803891976         322787  2008-04-30 21:25:19.670000000   \n",
       "113928  E34935176664905343E01EA         510097  2011-06-06 19:02:44.443000000   \n",
       "113929  E3553583161337791FCB87F         830413  2013-07-06 17:40:01.657000000   \n",
       "113930  E35D3584034795373BCD69A         831523  2013-07-08 10:24:49.700000000   \n",
       "113931  E36F36005339663245C20F8        1141292  2014-01-16 20:13:08.040000000   \n",
       "113932  E6D9357655724827169606C         753087  2013-04-14 05:55:02.663000000   \n",
       "113933  E6DB353036033497292EE43         537216  2011-11-03 20:42:55.333000000   \n",
       "113934  E6E13596170052029692BB1        1069178  2013-12-13 05:49:12.703000000   \n",
       "113935  E6EB3531504622671970D9E         539056  2011-11-14 13:18:26.597000000   \n",
       "113936  E6ED3600409833199F711B7        1140093  2014-01-15 09:27:37.657000000   \n",
       "\n",
       "       CreditGrade  Term              LoanStatus           ClosedDate  \\\n",
       "0                C    36               Completed  2009-08-14 00:00:00   \n",
       "1              NaN    36                 Current                  NaN   \n",
       "2               HR    36               Completed  2009-12-17 00:00:00   \n",
       "3              NaN    36                 Current                  NaN   \n",
       "4              NaN    36                 Current                  NaN   \n",
       "5              NaN    60                 Current                  NaN   \n",
       "6              NaN    36                 Current                  NaN   \n",
       "7              NaN    36                 Current                  NaN   \n",
       "8              NaN    36                 Current                  NaN   \n",
       "9              NaN    36                 Current                  NaN   \n",
       "10             NaN    60                 Current                  NaN   \n",
       "11               C    36               Completed  2008-01-07 00:00:00   \n",
       "12             NaN    36    Past Due (1-15 days)                  NaN   \n",
       "13             NaN    36                 Current                  NaN   \n",
       "14             NaN    60                 Current                  NaN   \n",
       "15             NaN    36               Defaulted  2012-12-19 00:00:00   \n",
       "16             NaN    60                 Current                  NaN   \n",
       "17              AA    36              Chargedoff  2008-05-22 00:00:00   \n",
       "18             NaN    36                 Current                  NaN   \n",
       "19             NaN    60                 Current                  NaN   \n",
       "20             NaN    36                 Current                  NaN   \n",
       "21               D    36               Completed  2010-12-12 00:00:00   \n",
       "22             NaN    36                 Current                  NaN   \n",
       "23             NaN    36               Defaulted  2013-12-26 00:00:00   \n",
       "24             NaN    36                 Current                  NaN   \n",
       "25             NaN    36                 Current                  NaN   \n",
       "26             NaN    60               Completed  2013-10-22 00:00:00   \n",
       "27             NaN    36               Completed  2013-07-03 00:00:00   \n",
       "28             NaN    36                 Current                  NaN   \n",
       "29             NaN    36                 Current                  NaN   \n",
       "...            ...   ...                     ...                  ...   \n",
       "113907         NaN    36                 Current                  NaN   \n",
       "113908         NaN    36               Completed  2011-01-31 00:00:00   \n",
       "113909         NaN    60                 Current                  NaN   \n",
       "113910         NaN    36                 Current                  NaN   \n",
       "113911         NaN    36                 Current                  NaN   \n",
       "113912         NaN    36                 Current                  NaN   \n",
       "113913         NaN    36               Completed  2013-05-05 00:00:00   \n",
       "113914          HR    36               Defaulted  2007-03-19 00:00:00   \n",
       "113915           D    36               Completed  2011-09-28 00:00:00   \n",
       "113916         NaN    36                 Current                  NaN   \n",
       "113917         NaN    36                 Current                  NaN   \n",
       "113918           A    36               Defaulted  2011-01-27 00:00:00   \n",
       "113919         NaN    36                 Current                  NaN   \n",
       "113920         NaN    36                 Current                  NaN   \n",
       "113921          AA    36               Completed  2005-11-25 00:00:00   \n",
       "113922           C    36               Completed  2011-08-19 00:00:00   \n",
       "113923           B    36               Completed  2011-09-23 00:00:00   \n",
       "113924         NaN    60                 Current                  NaN   \n",
       "113925         NaN    36                 Current                  NaN   \n",
       "113926           E    36               Defaulted  2007-09-06 00:00:00   \n",
       "113927          AA    36               Completed  2011-05-09 00:00:00   \n",
       "113928         NaN    36               Completed  2011-09-19 00:00:00   \n",
       "113929         NaN    36               Completed  2014-02-07 00:00:00   \n",
       "113930         NaN    36                 Current                  NaN   \n",
       "113931         NaN    60                 Current                  NaN   \n",
       "113932         NaN    36                 Current                  NaN   \n",
       "113933         NaN    36  FinalPaymentInProgress                  NaN   \n",
       "113934         NaN    60                 Current                  NaN   \n",
       "113935         NaN    60               Completed  2013-08-13 00:00:00   \n",
       "113936         NaN    36                 Current                  NaN   \n",
       "\n",
       "        BorrowerAPR  BorrowerRate  LenderYield  \n",
       "0           0.16516        0.1580       0.1380  \n",
       "1           0.12016        0.0920       0.0820  \n",
       "2           0.28269        0.2750       0.2400  \n",
       "3           0.12528        0.0974       0.0874  \n",
       "4           0.24614        0.2085       0.1985  \n",
       "5           0.15425        0.1314       0.1214  \n",
       "6           0.31032        0.2712       0.2612  \n",
       "7           0.23939        0.2019       0.1919  \n",
       "8           0.07620        0.0629       0.0529  \n",
       "9           0.07620        0.0629       0.0529  \n",
       "10          0.27462        0.2489       0.2389  \n",
       "11          0.15033        0.1325       0.1225  \n",
       "12          0.17969        0.1435       0.1335  \n",
       "13          0.13138        0.1034       0.0934  \n",
       "14          0.11695        0.0949       0.0849  \n",
       "15          0.35797        0.3177       0.3077  \n",
       "16          0.30748        0.2809       0.2709  \n",
       "17          0.13202        0.1250       0.1175  \n",
       "18          0.12528        0.0974       0.0874  \n",
       "19          0.24754        0.2225       0.2125  \n",
       "20          0.16732        0.1314       0.1214  \n",
       "21          0.21488        0.2075       0.1975  \n",
       "22          0.35356        0.3134       0.3034  \n",
       "23          0.28032        0.2419       0.2319  \n",
       "24          0.19859        0.1620       0.1520  \n",
       "25          0.30182        0.2629       0.2529  \n",
       "26          0.30748        0.2809       0.2709  \n",
       "27          0.11296        0.0920       0.0820  \n",
       "28          0.20268        0.1660       0.1560  \n",
       "29          0.15223        0.1239       0.1139  \n",
       "...             ...           ...          ...  \n",
       "113907      0.35356        0.3134       0.3034  \n",
       "113908      0.35858        0.3220       0.3120  \n",
       "113909      0.27554        0.2498       0.2398  \n",
       "113910      0.32446        0.2850       0.2750  \n",
       "113911      0.25330        0.2155       0.2055  \n",
       "113912      0.06726        0.0605       0.0505  \n",
       "113913      0.12410        0.1030       0.0930  \n",
       "113914      0.25757        0.2500       0.2450  \n",
       "113915      0.22237        0.2000       0.1900  \n",
       "113916      0.33286        0.2932       0.2832  \n",
       "113917      0.32446        0.2850       0.2750  \n",
       "113918      0.12201        0.1080       0.0980  \n",
       "113919      0.27285        0.2346       0.2246  \n",
       "113920      0.35356        0.3134       0.3034  \n",
       "113921          NaN        0.0400       0.0350  \n",
       "113922      0.15094        0.1295       0.1195  \n",
       "113923      0.22378        0.2089       0.1989  \n",
       "113924      0.17317        0.1499       0.1399  \n",
       "113925      0.31032        0.2712       0.2612  \n",
       "113926      0.29776        0.2900       0.2850  \n",
       "113927      0.07469        0.0679       0.0579  \n",
       "113928      0.22362        0.1899       0.1799  \n",
       "113929      0.30285        0.2639       0.2539  \n",
       "113930      0.20053        0.1639       0.1539  \n",
       "113931      0.15016        0.1274       0.1174  \n",
       "113932      0.22354        0.1864       0.1764  \n",
       "113933      0.13220        0.1110       0.1010  \n",
       "113934      0.23984        0.2150       0.2050  \n",
       "113935      0.28408        0.2605       0.2505  \n",
       "113936      0.13189        0.1039       0.0939  \n",
       "\n",
       "[113937 rows x 10 columns]"
      ]
     },
     "execution_count": 10,
     "metadata": {},
     "output_type": "execute_result"
    }
   ],
   "source": [
    "df_clean[n1]"
   ]
  },
  {
   "cell_type": "code",
   "execution_count": 11,
   "metadata": {
    "slideshow": {
     "slide_type": "skip"
    }
   },
   "outputs": [],
   "source": [
    "n2 = n[10:20]"
   ]
  },
  {
   "cell_type": "code",
   "execution_count": 12,
   "metadata": {
    "slideshow": {
     "slide_type": "skip"
    }
   },
   "outputs": [
    {
     "data": {
      "text/html": [
       "<div>\n",
       "<style scoped>\n",
       "    .dataframe tbody tr th:only-of-type {\n",
       "        vertical-align: middle;\n",
       "    }\n",
       "\n",
       "    .dataframe tbody tr th {\n",
       "        vertical-align: top;\n",
       "    }\n",
       "\n",
       "    .dataframe thead th {\n",
       "        text-align: right;\n",
       "    }\n",
       "</style>\n",
       "<table border=\"1\" class=\"dataframe\">\n",
       "  <thead>\n",
       "    <tr style=\"text-align: right;\">\n",
       "      <th></th>\n",
       "      <th>EstimatedEffectiveYield</th>\n",
       "      <th>EstimatedLoss</th>\n",
       "      <th>EstimatedReturn</th>\n",
       "      <th>ProsperRating (numeric)</th>\n",
       "      <th>ProsperRating (Alpha)</th>\n",
       "      <th>ProsperScore</th>\n",
       "      <th>ListingCategory (numeric)</th>\n",
       "      <th>BorrowerState</th>\n",
       "      <th>Occupation</th>\n",
       "      <th>EmploymentStatus</th>\n",
       "    </tr>\n",
       "  </thead>\n",
       "  <tbody>\n",
       "    <tr>\n",
       "      <th>0</th>\n",
       "      <td>NaN</td>\n",
       "      <td>NaN</td>\n",
       "      <td>NaN</td>\n",
       "      <td>NaN</td>\n",
       "      <td>NaN</td>\n",
       "      <td>NaN</td>\n",
       "      <td>0</td>\n",
       "      <td>CO</td>\n",
       "      <td>Other</td>\n",
       "      <td>Self-employed</td>\n",
       "    </tr>\n",
       "    <tr>\n",
       "      <th>1</th>\n",
       "      <td>0.07960</td>\n",
       "      <td>0.0249</td>\n",
       "      <td>0.05470</td>\n",
       "      <td>6.0</td>\n",
       "      <td>A</td>\n",
       "      <td>7.0</td>\n",
       "      <td>2</td>\n",
       "      <td>CO</td>\n",
       "      <td>Professional</td>\n",
       "      <td>Employed</td>\n",
       "    </tr>\n",
       "    <tr>\n",
       "      <th>2</th>\n",
       "      <td>NaN</td>\n",
       "      <td>NaN</td>\n",
       "      <td>NaN</td>\n",
       "      <td>NaN</td>\n",
       "      <td>NaN</td>\n",
       "      <td>NaN</td>\n",
       "      <td>0</td>\n",
       "      <td>GA</td>\n",
       "      <td>Other</td>\n",
       "      <td>Not available</td>\n",
       "    </tr>\n",
       "    <tr>\n",
       "      <th>3</th>\n",
       "      <td>0.08490</td>\n",
       "      <td>0.0249</td>\n",
       "      <td>0.06000</td>\n",
       "      <td>6.0</td>\n",
       "      <td>A</td>\n",
       "      <td>9.0</td>\n",
       "      <td>16</td>\n",
       "      <td>GA</td>\n",
       "      <td>Skilled Labor</td>\n",
       "      <td>Employed</td>\n",
       "    </tr>\n",
       "    <tr>\n",
       "      <th>4</th>\n",
       "      <td>0.18316</td>\n",
       "      <td>0.0925</td>\n",
       "      <td>0.09066</td>\n",
       "      <td>3.0</td>\n",
       "      <td>D</td>\n",
       "      <td>4.0</td>\n",
       "      <td>2</td>\n",
       "      <td>MN</td>\n",
       "      <td>Executive</td>\n",
       "      <td>Employed</td>\n",
       "    </tr>\n",
       "    <tr>\n",
       "      <th>5</th>\n",
       "      <td>0.11567</td>\n",
       "      <td>0.0449</td>\n",
       "      <td>0.07077</td>\n",
       "      <td>5.0</td>\n",
       "      <td>B</td>\n",
       "      <td>10.0</td>\n",
       "      <td>1</td>\n",
       "      <td>NM</td>\n",
       "      <td>Professional</td>\n",
       "      <td>Employed</td>\n",
       "    </tr>\n",
       "    <tr>\n",
       "      <th>6</th>\n",
       "      <td>0.23820</td>\n",
       "      <td>0.1275</td>\n",
       "      <td>0.11070</td>\n",
       "      <td>2.0</td>\n",
       "      <td>E</td>\n",
       "      <td>2.0</td>\n",
       "      <td>1</td>\n",
       "      <td>KS</td>\n",
       "      <td>Sales - Retail</td>\n",
       "      <td>Employed</td>\n",
       "    </tr>\n",
       "    <tr>\n",
       "      <th>7</th>\n",
       "      <td>0.17830</td>\n",
       "      <td>0.0799</td>\n",
       "      <td>0.09840</td>\n",
       "      <td>4.0</td>\n",
       "      <td>C</td>\n",
       "      <td>4.0</td>\n",
       "      <td>2</td>\n",
       "      <td>CA</td>\n",
       "      <td>Laborer</td>\n",
       "      <td>Employed</td>\n",
       "    </tr>\n",
       "    <tr>\n",
       "      <th>8</th>\n",
       "      <td>0.05221</td>\n",
       "      <td>0.0099</td>\n",
       "      <td>0.04231</td>\n",
       "      <td>7.0</td>\n",
       "      <td>AA</td>\n",
       "      <td>9.0</td>\n",
       "      <td>7</td>\n",
       "      <td>IL</td>\n",
       "      <td>Food Service</td>\n",
       "      <td>Employed</td>\n",
       "    </tr>\n",
       "    <tr>\n",
       "      <th>9</th>\n",
       "      <td>0.05221</td>\n",
       "      <td>0.0099</td>\n",
       "      <td>0.04231</td>\n",
       "      <td>7.0</td>\n",
       "      <td>AA</td>\n",
       "      <td>11.0</td>\n",
       "      <td>7</td>\n",
       "      <td>IL</td>\n",
       "      <td>Food Service</td>\n",
       "      <td>Employed</td>\n",
       "    </tr>\n",
       "    <tr>\n",
       "      <th>10</th>\n",
       "      <td>0.23320</td>\n",
       "      <td>0.0890</td>\n",
       "      <td>0.14420</td>\n",
       "      <td>4.0</td>\n",
       "      <td>C</td>\n",
       "      <td>7.0</td>\n",
       "      <td>1</td>\n",
       "      <td>MD</td>\n",
       "      <td>Fireman</td>\n",
       "      <td>Employed</td>\n",
       "    </tr>\n",
       "    <tr>\n",
       "      <th>11</th>\n",
       "      <td>NaN</td>\n",
       "      <td>NaN</td>\n",
       "      <td>NaN</td>\n",
       "      <td>NaN</td>\n",
       "      <td>NaN</td>\n",
       "      <td>NaN</td>\n",
       "      <td>0</td>\n",
       "      <td>NaN</td>\n",
       "      <td>Waiter/Waitress</td>\n",
       "      <td>Full-time</td>\n",
       "    </tr>\n",
       "    <tr>\n",
       "      <th>12</th>\n",
       "      <td>0.12640</td>\n",
       "      <td>0.0524</td>\n",
       "      <td>0.07400</td>\n",
       "      <td>5.0</td>\n",
       "      <td>B</td>\n",
       "      <td>4.0</td>\n",
       "      <td>1</td>\n",
       "      <td>AL</td>\n",
       "      <td>Sales - Retail</td>\n",
       "      <td>Employed</td>\n",
       "    </tr>\n",
       "    <tr>\n",
       "      <th>13</th>\n",
       "      <td>0.09050</td>\n",
       "      <td>0.0274</td>\n",
       "      <td>0.06310</td>\n",
       "      <td>6.0</td>\n",
       "      <td>A</td>\n",
       "      <td>8.0</td>\n",
       "      <td>1</td>\n",
       "      <td>AZ</td>\n",
       "      <td>Construction</td>\n",
       "      <td>Employed</td>\n",
       "    </tr>\n",
       "    <tr>\n",
       "      <th>14</th>\n",
       "      <td>0.08270</td>\n",
       "      <td>0.0224</td>\n",
       "      <td>0.06030</td>\n",
       "      <td>6.0</td>\n",
       "      <td>A</td>\n",
       "      <td>8.0</td>\n",
       "      <td>1</td>\n",
       "      <td>VA</td>\n",
       "      <td>Computer Programmer</td>\n",
       "      <td>Employed</td>\n",
       "    </tr>\n",
       "    <tr>\n",
       "      <th>15</th>\n",
       "      <td>0.28960</td>\n",
       "      <td>0.1650</td>\n",
       "      <td>0.12460</td>\n",
       "      <td>1.0</td>\n",
       "      <td>HR</td>\n",
       "      <td>5.0</td>\n",
       "      <td>13</td>\n",
       "      <td>FL</td>\n",
       "      <td>Other</td>\n",
       "      <td>Other</td>\n",
       "    </tr>\n",
       "    <tr>\n",
       "      <th>16</th>\n",
       "      <td>0.24730</td>\n",
       "      <td>0.1225</td>\n",
       "      <td>0.12480</td>\n",
       "      <td>2.0</td>\n",
       "      <td>E</td>\n",
       "      <td>4.0</td>\n",
       "      <td>6</td>\n",
       "      <td>CA</td>\n",
       "      <td>Professional</td>\n",
       "      <td>Full-time</td>\n",
       "    </tr>\n",
       "    <tr>\n",
       "      <th>17</th>\n",
       "      <td>NaN</td>\n",
       "      <td>NaN</td>\n",
       "      <td>NaN</td>\n",
       "      <td>NaN</td>\n",
       "      <td>NaN</td>\n",
       "      <td>NaN</td>\n",
       "      <td>0</td>\n",
       "      <td>NaN</td>\n",
       "      <td>Professional</td>\n",
       "      <td>Not available</td>\n",
       "    </tr>\n",
       "    <tr>\n",
       "      <th>18</th>\n",
       "      <td>0.08490</td>\n",
       "      <td>0.0249</td>\n",
       "      <td>0.06000</td>\n",
       "      <td>6.0</td>\n",
       "      <td>A</td>\n",
       "      <td>7.0</td>\n",
       "      <td>1</td>\n",
       "      <td>PA</td>\n",
       "      <td>Sales - Commission</td>\n",
       "      <td>Employed</td>\n",
       "    </tr>\n",
       "    <tr>\n",
       "      <th>19</th>\n",
       "      <td>0.19520</td>\n",
       "      <td>0.1025</td>\n",
       "      <td>0.09270</td>\n",
       "      <td>3.0</td>\n",
       "      <td>D</td>\n",
       "      <td>8.0</td>\n",
       "      <td>1</td>\n",
       "      <td>OR</td>\n",
       "      <td>Laborer</td>\n",
       "      <td>Employed</td>\n",
       "    </tr>\n",
       "    <tr>\n",
       "      <th>20</th>\n",
       "      <td>0.11567</td>\n",
       "      <td>0.0449</td>\n",
       "      <td>0.07077</td>\n",
       "      <td>5.0</td>\n",
       "      <td>B</td>\n",
       "      <td>7.0</td>\n",
       "      <td>1</td>\n",
       "      <td>MN</td>\n",
       "      <td>Retail Management</td>\n",
       "      <td>Employed</td>\n",
       "    </tr>\n",
       "    <tr>\n",
       "      <th>21</th>\n",
       "      <td>NaN</td>\n",
       "      <td>NaN</td>\n",
       "      <td>NaN</td>\n",
       "      <td>NaN</td>\n",
       "      <td>NaN</td>\n",
       "      <td>NaN</td>\n",
       "      <td>0</td>\n",
       "      <td>MI</td>\n",
       "      <td>Professional</td>\n",
       "      <td>Full-time</td>\n",
       "    </tr>\n",
       "    <tr>\n",
       "      <th>22</th>\n",
       "      <td>0.27600</td>\n",
       "      <td>0.1575</td>\n",
       "      <td>0.11850</td>\n",
       "      <td>1.0</td>\n",
       "      <td>HR</td>\n",
       "      <td>2.0</td>\n",
       "      <td>1</td>\n",
       "      <td>NY</td>\n",
       "      <td>Other</td>\n",
       "      <td>Other</td>\n",
       "    </tr>\n",
       "    <tr>\n",
       "      <th>23</th>\n",
       "      <td>0.21260</td>\n",
       "      <td>0.1075</td>\n",
       "      <td>0.10510</td>\n",
       "      <td>3.0</td>\n",
       "      <td>D</td>\n",
       "      <td>5.0</td>\n",
       "      <td>15</td>\n",
       "      <td>IL</td>\n",
       "      <td>Skilled Labor</td>\n",
       "      <td>Employed</td>\n",
       "    </tr>\n",
       "    <tr>\n",
       "      <th>24</th>\n",
       "      <td>0.14256</td>\n",
       "      <td>0.0649</td>\n",
       "      <td>0.07766</td>\n",
       "      <td>4.0</td>\n",
       "      <td>C</td>\n",
       "      <td>5.0</td>\n",
       "      <td>1</td>\n",
       "      <td>LA</td>\n",
       "      <td>Other</td>\n",
       "      <td>Employed</td>\n",
       "    </tr>\n",
       "    <tr>\n",
       "      <th>25</th>\n",
       "      <td>0.23057</td>\n",
       "      <td>0.1275</td>\n",
       "      <td>0.10307</td>\n",
       "      <td>2.0</td>\n",
       "      <td>E</td>\n",
       "      <td>3.0</td>\n",
       "      <td>15</td>\n",
       "      <td>CA</td>\n",
       "      <td>Engineer - Mechanical</td>\n",
       "      <td>Employed</td>\n",
       "    </tr>\n",
       "    <tr>\n",
       "      <th>26</th>\n",
       "      <td>0.24730</td>\n",
       "      <td>0.1225</td>\n",
       "      <td>0.12480</td>\n",
       "      <td>2.0</td>\n",
       "      <td>E</td>\n",
       "      <td>3.0</td>\n",
       "      <td>1</td>\n",
       "      <td>NY</td>\n",
       "      <td>Sales - Commission</td>\n",
       "      <td>Employed</td>\n",
       "    </tr>\n",
       "    <tr>\n",
       "      <th>27</th>\n",
       "      <td>0.06080</td>\n",
       "      <td>0.0210</td>\n",
       "      <td>0.06080</td>\n",
       "      <td>6.0</td>\n",
       "      <td>A</td>\n",
       "      <td>9.0</td>\n",
       "      <td>1</td>\n",
       "      <td>CO</td>\n",
       "      <td>Executive</td>\n",
       "      <td>Full-time</td>\n",
       "    </tr>\n",
       "    <tr>\n",
       "      <th>28</th>\n",
       "      <td>0.14661</td>\n",
       "      <td>0.0624</td>\n",
       "      <td>0.08421</td>\n",
       "      <td>4.0</td>\n",
       "      <td>C</td>\n",
       "      <td>4.0</td>\n",
       "      <td>2</td>\n",
       "      <td>PA</td>\n",
       "      <td>Military Enlisted</td>\n",
       "      <td>Employed</td>\n",
       "    </tr>\n",
       "    <tr>\n",
       "      <th>29</th>\n",
       "      <td>0.10900</td>\n",
       "      <td>0.0399</td>\n",
       "      <td>0.06910</td>\n",
       "      <td>6.0</td>\n",
       "      <td>A</td>\n",
       "      <td>6.0</td>\n",
       "      <td>1</td>\n",
       "      <td>LA</td>\n",
       "      <td>Other</td>\n",
       "      <td>Employed</td>\n",
       "    </tr>\n",
       "    <tr>\n",
       "      <th>...</th>\n",
       "      <td>...</td>\n",
       "      <td>...</td>\n",
       "      <td>...</td>\n",
       "      <td>...</td>\n",
       "      <td>...</td>\n",
       "      <td>...</td>\n",
       "      <td>...</td>\n",
       "      <td>...</td>\n",
       "      <td>...</td>\n",
       "      <td>...</td>\n",
       "    </tr>\n",
       "    <tr>\n",
       "      <th>113907</th>\n",
       "      <td>0.27598</td>\n",
       "      <td>0.1625</td>\n",
       "      <td>0.11348</td>\n",
       "      <td>1.0</td>\n",
       "      <td>HR</td>\n",
       "      <td>2.0</td>\n",
       "      <td>1</td>\n",
       "      <td>AZ</td>\n",
       "      <td>Sales - Retail</td>\n",
       "      <td>Employed</td>\n",
       "    </tr>\n",
       "    <tr>\n",
       "      <th>113908</th>\n",
       "      <td>0.15570</td>\n",
       "      <td>0.1420</td>\n",
       "      <td>0.15570</td>\n",
       "      <td>2.0</td>\n",
       "      <td>E</td>\n",
       "      <td>5.0</td>\n",
       "      <td>3</td>\n",
       "      <td>NY</td>\n",
       "      <td>Sales - Commission</td>\n",
       "      <td>Employed</td>\n",
       "    </tr>\n",
       "    <tr>\n",
       "      <th>113909</th>\n",
       "      <td>0.23410</td>\n",
       "      <td>0.0849</td>\n",
       "      <td>0.14920</td>\n",
       "      <td>4.0</td>\n",
       "      <td>C</td>\n",
       "      <td>7.0</td>\n",
       "      <td>2</td>\n",
       "      <td>FL</td>\n",
       "      <td>Clerical</td>\n",
       "      <td>Employed</td>\n",
       "    </tr>\n",
       "    <tr>\n",
       "      <th>113910</th>\n",
       "      <td>0.25006</td>\n",
       "      <td>0.1475</td>\n",
       "      <td>0.10256</td>\n",
       "      <td>2.0</td>\n",
       "      <td>E</td>\n",
       "      <td>2.0</td>\n",
       "      <td>1</td>\n",
       "      <td>TX</td>\n",
       "      <td>Executive</td>\n",
       "      <td>Employed</td>\n",
       "    </tr>\n",
       "    <tr>\n",
       "      <th>113911</th>\n",
       "      <td>0.18917</td>\n",
       "      <td>0.0975</td>\n",
       "      <td>0.09167</td>\n",
       "      <td>3.0</td>\n",
       "      <td>D</td>\n",
       "      <td>3.0</td>\n",
       "      <td>14</td>\n",
       "      <td>MD</td>\n",
       "      <td>Other</td>\n",
       "      <td>Employed</td>\n",
       "    </tr>\n",
       "    <tr>\n",
       "      <th>113912</th>\n",
       "      <td>0.05000</td>\n",
       "      <td>0.0074</td>\n",
       "      <td>0.04260</td>\n",
       "      <td>7.0</td>\n",
       "      <td>AA</td>\n",
       "      <td>11.0</td>\n",
       "      <td>2</td>\n",
       "      <td>MN</td>\n",
       "      <td>Scientist</td>\n",
       "      <td>Employed</td>\n",
       "    </tr>\n",
       "    <tr>\n",
       "      <th>113913</th>\n",
       "      <td>0.07170</td>\n",
       "      <td>0.0210</td>\n",
       "      <td>0.07170</td>\n",
       "      <td>6.0</td>\n",
       "      <td>A</td>\n",
       "      <td>9.0</td>\n",
       "      <td>1</td>\n",
       "      <td>WA</td>\n",
       "      <td>Analyst</td>\n",
       "      <td>Full-time</td>\n",
       "    </tr>\n",
       "    <tr>\n",
       "      <th>113914</th>\n",
       "      <td>NaN</td>\n",
       "      <td>NaN</td>\n",
       "      <td>NaN</td>\n",
       "      <td>NaN</td>\n",
       "      <td>NaN</td>\n",
       "      <td>NaN</td>\n",
       "      <td>0</td>\n",
       "      <td>CA</td>\n",
       "      <td>NaN</td>\n",
       "      <td>NaN</td>\n",
       "    </tr>\n",
       "    <tr>\n",
       "      <th>113915</th>\n",
       "      <td>NaN</td>\n",
       "      <td>NaN</td>\n",
       "      <td>NaN</td>\n",
       "      <td>NaN</td>\n",
       "      <td>NaN</td>\n",
       "      <td>NaN</td>\n",
       "      <td>7</td>\n",
       "      <td>MA</td>\n",
       "      <td>Other</td>\n",
       "      <td>Full-time</td>\n",
       "    </tr>\n",
       "    <tr>\n",
       "      <th>113916</th>\n",
       "      <td>0.25750</td>\n",
       "      <td>0.1425</td>\n",
       "      <td>0.11500</td>\n",
       "      <td>2.0</td>\n",
       "      <td>E</td>\n",
       "      <td>6.0</td>\n",
       "      <td>13</td>\n",
       "      <td>FL</td>\n",
       "      <td>Professional</td>\n",
       "      <td>Employed</td>\n",
       "    </tr>\n",
       "    <tr>\n",
       "      <th>113917</th>\n",
       "      <td>0.25006</td>\n",
       "      <td>0.1475</td>\n",
       "      <td>0.10256</td>\n",
       "      <td>2.0</td>\n",
       "      <td>E</td>\n",
       "      <td>2.0</td>\n",
       "      <td>1</td>\n",
       "      <td>OH</td>\n",
       "      <td>Clerical</td>\n",
       "      <td>Employed</td>\n",
       "    </tr>\n",
       "    <tr>\n",
       "      <th>113918</th>\n",
       "      <td>NaN</td>\n",
       "      <td>NaN</td>\n",
       "      <td>NaN</td>\n",
       "      <td>NaN</td>\n",
       "      <td>NaN</td>\n",
       "      <td>NaN</td>\n",
       "      <td>4</td>\n",
       "      <td>CA</td>\n",
       "      <td>Social Worker</td>\n",
       "      <td>Full-time</td>\n",
       "    </tr>\n",
       "    <tr>\n",
       "      <th>113919</th>\n",
       "      <td>0.20640</td>\n",
       "      <td>0.1025</td>\n",
       "      <td>0.10390</td>\n",
       "      <td>3.0</td>\n",
       "      <td>D</td>\n",
       "      <td>3.0</td>\n",
       "      <td>2</td>\n",
       "      <td>IL</td>\n",
       "      <td>Other</td>\n",
       "      <td>Other</td>\n",
       "    </tr>\n",
       "    <tr>\n",
       "      <th>113920</th>\n",
       "      <td>0.27600</td>\n",
       "      <td>0.1575</td>\n",
       "      <td>0.11850</td>\n",
       "      <td>1.0</td>\n",
       "      <td>HR</td>\n",
       "      <td>2.0</td>\n",
       "      <td>1</td>\n",
       "      <td>NJ</td>\n",
       "      <td>Retail Management</td>\n",
       "      <td>Employed</td>\n",
       "    </tr>\n",
       "    <tr>\n",
       "      <th>113921</th>\n",
       "      <td>NaN</td>\n",
       "      <td>NaN</td>\n",
       "      <td>NaN</td>\n",
       "      <td>NaN</td>\n",
       "      <td>NaN</td>\n",
       "      <td>NaN</td>\n",
       "      <td>0</td>\n",
       "      <td>NaN</td>\n",
       "      <td>NaN</td>\n",
       "      <td>NaN</td>\n",
       "    </tr>\n",
       "    <tr>\n",
       "      <th>113922</th>\n",
       "      <td>NaN</td>\n",
       "      <td>NaN</td>\n",
       "      <td>NaN</td>\n",
       "      <td>NaN</td>\n",
       "      <td>NaN</td>\n",
       "      <td>NaN</td>\n",
       "      <td>5</td>\n",
       "      <td>GA</td>\n",
       "      <td>Other</td>\n",
       "      <td>Full-time</td>\n",
       "    </tr>\n",
       "    <tr>\n",
       "      <th>113923</th>\n",
       "      <td>NaN</td>\n",
       "      <td>NaN</td>\n",
       "      <td>NaN</td>\n",
       "      <td>NaN</td>\n",
       "      <td>NaN</td>\n",
       "      <td>NaN</td>\n",
       "      <td>1</td>\n",
       "      <td>MS</td>\n",
       "      <td>Clergy</td>\n",
       "      <td>Full-time</td>\n",
       "    </tr>\n",
       "    <tr>\n",
       "      <th>113924</th>\n",
       "      <td>0.13460</td>\n",
       "      <td>0.0349</td>\n",
       "      <td>0.09970</td>\n",
       "      <td>6.0</td>\n",
       "      <td>A</td>\n",
       "      <td>8.0</td>\n",
       "      <td>13</td>\n",
       "      <td>WA</td>\n",
       "      <td>Other</td>\n",
       "      <td>Employed</td>\n",
       "    </tr>\n",
       "    <tr>\n",
       "      <th>113925</th>\n",
       "      <td>0.23820</td>\n",
       "      <td>0.1275</td>\n",
       "      <td>0.11070</td>\n",
       "      <td>2.0</td>\n",
       "      <td>E</td>\n",
       "      <td>2.0</td>\n",
       "      <td>1</td>\n",
       "      <td>NY</td>\n",
       "      <td>Homemaker</td>\n",
       "      <td>Employed</td>\n",
       "    </tr>\n",
       "    <tr>\n",
       "      <th>113926</th>\n",
       "      <td>NaN</td>\n",
       "      <td>NaN</td>\n",
       "      <td>NaN</td>\n",
       "      <td>NaN</td>\n",
       "      <td>NaN</td>\n",
       "      <td>NaN</td>\n",
       "      <td>0</td>\n",
       "      <td>CA</td>\n",
       "      <td>Other</td>\n",
       "      <td>Not available</td>\n",
       "    </tr>\n",
       "    <tr>\n",
       "      <th>113927</th>\n",
       "      <td>NaN</td>\n",
       "      <td>NaN</td>\n",
       "      <td>NaN</td>\n",
       "      <td>NaN</td>\n",
       "      <td>NaN</td>\n",
       "      <td>NaN</td>\n",
       "      <td>4</td>\n",
       "      <td>WA</td>\n",
       "      <td>Executive</td>\n",
       "      <td>Full-time</td>\n",
       "    </tr>\n",
       "    <tr>\n",
       "      <th>113928</th>\n",
       "      <td>0.17570</td>\n",
       "      <td>0.0610</td>\n",
       "      <td>0.11470</td>\n",
       "      <td>4.0</td>\n",
       "      <td>C</td>\n",
       "      <td>6.0</td>\n",
       "      <td>3</td>\n",
       "      <td>CO</td>\n",
       "      <td>Other</td>\n",
       "      <td>Full-time</td>\n",
       "    </tr>\n",
       "    <tr>\n",
       "      <th>113929</th>\n",
       "      <td>0.23180</td>\n",
       "      <td>0.1225</td>\n",
       "      <td>0.10930</td>\n",
       "      <td>2.0</td>\n",
       "      <td>E</td>\n",
       "      <td>3.0</td>\n",
       "      <td>2</td>\n",
       "      <td>FL</td>\n",
       "      <td>Accountant/CPA</td>\n",
       "      <td>Employed</td>\n",
       "    </tr>\n",
       "    <tr>\n",
       "      <th>113930</th>\n",
       "      <td>0.14520</td>\n",
       "      <td>0.0574</td>\n",
       "      <td>0.08780</td>\n",
       "      <td>5.0</td>\n",
       "      <td>B</td>\n",
       "      <td>6.0</td>\n",
       "      <td>1</td>\n",
       "      <td>IN</td>\n",
       "      <td>Professional</td>\n",
       "      <td>Employed</td>\n",
       "    </tr>\n",
       "    <tr>\n",
       "      <th>113931</th>\n",
       "      <td>0.11210</td>\n",
       "      <td>0.0424</td>\n",
       "      <td>0.06970</td>\n",
       "      <td>5.0</td>\n",
       "      <td>B</td>\n",
       "      <td>6.0</td>\n",
       "      <td>3</td>\n",
       "      <td>IL</td>\n",
       "      <td>Analyst</td>\n",
       "      <td>Employed</td>\n",
       "    </tr>\n",
       "    <tr>\n",
       "      <th>113932</th>\n",
       "      <td>0.16490</td>\n",
       "      <td>0.0699</td>\n",
       "      <td>0.09500</td>\n",
       "      <td>4.0</td>\n",
       "      <td>C</td>\n",
       "      <td>5.0</td>\n",
       "      <td>1</td>\n",
       "      <td>IL</td>\n",
       "      <td>Food Service Management</td>\n",
       "      <td>Employed</td>\n",
       "    </tr>\n",
       "    <tr>\n",
       "      <th>113933</th>\n",
       "      <td>0.10070</td>\n",
       "      <td>0.0200</td>\n",
       "      <td>0.08070</td>\n",
       "      <td>6.0</td>\n",
       "      <td>A</td>\n",
       "      <td>8.0</td>\n",
       "      <td>7</td>\n",
       "      <td>PA</td>\n",
       "      <td>Professional</td>\n",
       "      <td>Employed</td>\n",
       "    </tr>\n",
       "    <tr>\n",
       "      <th>113934</th>\n",
       "      <td>0.18828</td>\n",
       "      <td>0.1025</td>\n",
       "      <td>0.08578</td>\n",
       "      <td>3.0</td>\n",
       "      <td>D</td>\n",
       "      <td>3.0</td>\n",
       "      <td>1</td>\n",
       "      <td>TX</td>\n",
       "      <td>Other</td>\n",
       "      <td>Employed</td>\n",
       "    </tr>\n",
       "    <tr>\n",
       "      <th>113935</th>\n",
       "      <td>0.24450</td>\n",
       "      <td>0.0850</td>\n",
       "      <td>0.15950</td>\n",
       "      <td>4.0</td>\n",
       "      <td>C</td>\n",
       "      <td>5.0</td>\n",
       "      <td>2</td>\n",
       "      <td>GA</td>\n",
       "      <td>Food Service</td>\n",
       "      <td>Full-time</td>\n",
       "    </tr>\n",
       "    <tr>\n",
       "      <th>113936</th>\n",
       "      <td>0.09071</td>\n",
       "      <td>0.0299</td>\n",
       "      <td>0.06081</td>\n",
       "      <td>6.0</td>\n",
       "      <td>A</td>\n",
       "      <td>7.0</td>\n",
       "      <td>1</td>\n",
       "      <td>NY</td>\n",
       "      <td>Professor</td>\n",
       "      <td>Employed</td>\n",
       "    </tr>\n",
       "  </tbody>\n",
       "</table>\n",
       "<p>113937 rows × 10 columns</p>\n",
       "</div>"
      ],
      "text/plain": [
       "        EstimatedEffectiveYield  EstimatedLoss  EstimatedReturn  \\\n",
       "0                           NaN            NaN              NaN   \n",
       "1                       0.07960         0.0249          0.05470   \n",
       "2                           NaN            NaN              NaN   \n",
       "3                       0.08490         0.0249          0.06000   \n",
       "4                       0.18316         0.0925          0.09066   \n",
       "5                       0.11567         0.0449          0.07077   \n",
       "6                       0.23820         0.1275          0.11070   \n",
       "7                       0.17830         0.0799          0.09840   \n",
       "8                       0.05221         0.0099          0.04231   \n",
       "9                       0.05221         0.0099          0.04231   \n",
       "10                      0.23320         0.0890          0.14420   \n",
       "11                          NaN            NaN              NaN   \n",
       "12                      0.12640         0.0524          0.07400   \n",
       "13                      0.09050         0.0274          0.06310   \n",
       "14                      0.08270         0.0224          0.06030   \n",
       "15                      0.28960         0.1650          0.12460   \n",
       "16                      0.24730         0.1225          0.12480   \n",
       "17                          NaN            NaN              NaN   \n",
       "18                      0.08490         0.0249          0.06000   \n",
       "19                      0.19520         0.1025          0.09270   \n",
       "20                      0.11567         0.0449          0.07077   \n",
       "21                          NaN            NaN              NaN   \n",
       "22                      0.27600         0.1575          0.11850   \n",
       "23                      0.21260         0.1075          0.10510   \n",
       "24                      0.14256         0.0649          0.07766   \n",
       "25                      0.23057         0.1275          0.10307   \n",
       "26                      0.24730         0.1225          0.12480   \n",
       "27                      0.06080         0.0210          0.06080   \n",
       "28                      0.14661         0.0624          0.08421   \n",
       "29                      0.10900         0.0399          0.06910   \n",
       "...                         ...            ...              ...   \n",
       "113907                  0.27598         0.1625          0.11348   \n",
       "113908                  0.15570         0.1420          0.15570   \n",
       "113909                  0.23410         0.0849          0.14920   \n",
       "113910                  0.25006         0.1475          0.10256   \n",
       "113911                  0.18917         0.0975          0.09167   \n",
       "113912                  0.05000         0.0074          0.04260   \n",
       "113913                  0.07170         0.0210          0.07170   \n",
       "113914                      NaN            NaN              NaN   \n",
       "113915                      NaN            NaN              NaN   \n",
       "113916                  0.25750         0.1425          0.11500   \n",
       "113917                  0.25006         0.1475          0.10256   \n",
       "113918                      NaN            NaN              NaN   \n",
       "113919                  0.20640         0.1025          0.10390   \n",
       "113920                  0.27600         0.1575          0.11850   \n",
       "113921                      NaN            NaN              NaN   \n",
       "113922                      NaN            NaN              NaN   \n",
       "113923                      NaN            NaN              NaN   \n",
       "113924                  0.13460         0.0349          0.09970   \n",
       "113925                  0.23820         0.1275          0.11070   \n",
       "113926                      NaN            NaN              NaN   \n",
       "113927                      NaN            NaN              NaN   \n",
       "113928                  0.17570         0.0610          0.11470   \n",
       "113929                  0.23180         0.1225          0.10930   \n",
       "113930                  0.14520         0.0574          0.08780   \n",
       "113931                  0.11210         0.0424          0.06970   \n",
       "113932                  0.16490         0.0699          0.09500   \n",
       "113933                  0.10070         0.0200          0.08070   \n",
       "113934                  0.18828         0.1025          0.08578   \n",
       "113935                  0.24450         0.0850          0.15950   \n",
       "113936                  0.09071         0.0299          0.06081   \n",
       "\n",
       "        ProsperRating (numeric) ProsperRating (Alpha)  ProsperScore  \\\n",
       "0                           NaN                   NaN           NaN   \n",
       "1                           6.0                     A           7.0   \n",
       "2                           NaN                   NaN           NaN   \n",
       "3                           6.0                     A           9.0   \n",
       "4                           3.0                     D           4.0   \n",
       "5                           5.0                     B          10.0   \n",
       "6                           2.0                     E           2.0   \n",
       "7                           4.0                     C           4.0   \n",
       "8                           7.0                    AA           9.0   \n",
       "9                           7.0                    AA          11.0   \n",
       "10                          4.0                     C           7.0   \n",
       "11                          NaN                   NaN           NaN   \n",
       "12                          5.0                     B           4.0   \n",
       "13                          6.0                     A           8.0   \n",
       "14                          6.0                     A           8.0   \n",
       "15                          1.0                    HR           5.0   \n",
       "16                          2.0                     E           4.0   \n",
       "17                          NaN                   NaN           NaN   \n",
       "18                          6.0                     A           7.0   \n",
       "19                          3.0                     D           8.0   \n",
       "20                          5.0                     B           7.0   \n",
       "21                          NaN                   NaN           NaN   \n",
       "22                          1.0                    HR           2.0   \n",
       "23                          3.0                     D           5.0   \n",
       "24                          4.0                     C           5.0   \n",
       "25                          2.0                     E           3.0   \n",
       "26                          2.0                     E           3.0   \n",
       "27                          6.0                     A           9.0   \n",
       "28                          4.0                     C           4.0   \n",
       "29                          6.0                     A           6.0   \n",
       "...                         ...                   ...           ...   \n",
       "113907                      1.0                    HR           2.0   \n",
       "113908                      2.0                     E           5.0   \n",
       "113909                      4.0                     C           7.0   \n",
       "113910                      2.0                     E           2.0   \n",
       "113911                      3.0                     D           3.0   \n",
       "113912                      7.0                    AA          11.0   \n",
       "113913                      6.0                     A           9.0   \n",
       "113914                      NaN                   NaN           NaN   \n",
       "113915                      NaN                   NaN           NaN   \n",
       "113916                      2.0                     E           6.0   \n",
       "113917                      2.0                     E           2.0   \n",
       "113918                      NaN                   NaN           NaN   \n",
       "113919                      3.0                     D           3.0   \n",
       "113920                      1.0                    HR           2.0   \n",
       "113921                      NaN                   NaN           NaN   \n",
       "113922                      NaN                   NaN           NaN   \n",
       "113923                      NaN                   NaN           NaN   \n",
       "113924                      6.0                     A           8.0   \n",
       "113925                      2.0                     E           2.0   \n",
       "113926                      NaN                   NaN           NaN   \n",
       "113927                      NaN                   NaN           NaN   \n",
       "113928                      4.0                     C           6.0   \n",
       "113929                      2.0                     E           3.0   \n",
       "113930                      5.0                     B           6.0   \n",
       "113931                      5.0                     B           6.0   \n",
       "113932                      4.0                     C           5.0   \n",
       "113933                      6.0                     A           8.0   \n",
       "113934                      3.0                     D           3.0   \n",
       "113935                      4.0                     C           5.0   \n",
       "113936                      6.0                     A           7.0   \n",
       "\n",
       "        ListingCategory (numeric) BorrowerState               Occupation  \\\n",
       "0                               0            CO                    Other   \n",
       "1                               2            CO             Professional   \n",
       "2                               0            GA                    Other   \n",
       "3                              16            GA            Skilled Labor   \n",
       "4                               2            MN                Executive   \n",
       "5                               1            NM             Professional   \n",
       "6                               1            KS           Sales - Retail   \n",
       "7                               2            CA                  Laborer   \n",
       "8                               7            IL             Food Service   \n",
       "9                               7            IL             Food Service   \n",
       "10                              1            MD                  Fireman   \n",
       "11                              0           NaN          Waiter/Waitress   \n",
       "12                              1            AL           Sales - Retail   \n",
       "13                              1            AZ             Construction   \n",
       "14                              1            VA      Computer Programmer   \n",
       "15                             13            FL                    Other   \n",
       "16                              6            CA             Professional   \n",
       "17                              0           NaN             Professional   \n",
       "18                              1            PA       Sales - Commission   \n",
       "19                              1            OR                  Laborer   \n",
       "20                              1            MN        Retail Management   \n",
       "21                              0            MI             Professional   \n",
       "22                              1            NY                    Other   \n",
       "23                             15            IL            Skilled Labor   \n",
       "24                              1            LA                    Other   \n",
       "25                             15            CA    Engineer - Mechanical   \n",
       "26                              1            NY       Sales - Commission   \n",
       "27                              1            CO                Executive   \n",
       "28                              2            PA        Military Enlisted   \n",
       "29                              1            LA                    Other   \n",
       "...                           ...           ...                      ...   \n",
       "113907                          1            AZ           Sales - Retail   \n",
       "113908                          3            NY       Sales - Commission   \n",
       "113909                          2            FL                 Clerical   \n",
       "113910                          1            TX                Executive   \n",
       "113911                         14            MD                    Other   \n",
       "113912                          2            MN                Scientist   \n",
       "113913                          1            WA                  Analyst   \n",
       "113914                          0            CA                      NaN   \n",
       "113915                          7            MA                    Other   \n",
       "113916                         13            FL             Professional   \n",
       "113917                          1            OH                 Clerical   \n",
       "113918                          4            CA            Social Worker   \n",
       "113919                          2            IL                    Other   \n",
       "113920                          1            NJ        Retail Management   \n",
       "113921                          0           NaN                      NaN   \n",
       "113922                          5            GA                    Other   \n",
       "113923                          1            MS                   Clergy   \n",
       "113924                         13            WA                    Other   \n",
       "113925                          1            NY                Homemaker   \n",
       "113926                          0            CA                    Other   \n",
       "113927                          4            WA                Executive   \n",
       "113928                          3            CO                    Other   \n",
       "113929                          2            FL           Accountant/CPA   \n",
       "113930                          1            IN             Professional   \n",
       "113931                          3            IL                  Analyst   \n",
       "113932                          1            IL  Food Service Management   \n",
       "113933                          7            PA             Professional   \n",
       "113934                          1            TX                    Other   \n",
       "113935                          2            GA             Food Service   \n",
       "113936                          1            NY                Professor   \n",
       "\n",
       "       EmploymentStatus  \n",
       "0         Self-employed  \n",
       "1              Employed  \n",
       "2         Not available  \n",
       "3              Employed  \n",
       "4              Employed  \n",
       "5              Employed  \n",
       "6              Employed  \n",
       "7              Employed  \n",
       "8              Employed  \n",
       "9              Employed  \n",
       "10             Employed  \n",
       "11            Full-time  \n",
       "12             Employed  \n",
       "13             Employed  \n",
       "14             Employed  \n",
       "15                Other  \n",
       "16            Full-time  \n",
       "17        Not available  \n",
       "18             Employed  \n",
       "19             Employed  \n",
       "20             Employed  \n",
       "21            Full-time  \n",
       "22                Other  \n",
       "23             Employed  \n",
       "24             Employed  \n",
       "25             Employed  \n",
       "26             Employed  \n",
       "27            Full-time  \n",
       "28             Employed  \n",
       "29             Employed  \n",
       "...                 ...  \n",
       "113907         Employed  \n",
       "113908         Employed  \n",
       "113909         Employed  \n",
       "113910         Employed  \n",
       "113911         Employed  \n",
       "113912         Employed  \n",
       "113913        Full-time  \n",
       "113914              NaN  \n",
       "113915        Full-time  \n",
       "113916         Employed  \n",
       "113917         Employed  \n",
       "113918        Full-time  \n",
       "113919            Other  \n",
       "113920         Employed  \n",
       "113921              NaN  \n",
       "113922        Full-time  \n",
       "113923        Full-time  \n",
       "113924         Employed  \n",
       "113925         Employed  \n",
       "113926    Not available  \n",
       "113927        Full-time  \n",
       "113928        Full-time  \n",
       "113929         Employed  \n",
       "113930         Employed  \n",
       "113931         Employed  \n",
       "113932         Employed  \n",
       "113933         Employed  \n",
       "113934         Employed  \n",
       "113935        Full-time  \n",
       "113936         Employed  \n",
       "\n",
       "[113937 rows x 10 columns]"
      ]
     },
     "execution_count": 12,
     "metadata": {},
     "output_type": "execute_result"
    }
   ],
   "source": [
    "df_clean[n2]"
   ]
  },
  {
   "cell_type": "code",
   "execution_count": 13,
   "metadata": {
    "slideshow": {
     "slide_type": "skip"
    }
   },
   "outputs": [],
   "source": [
    "#from 81 columns most used columns are only selected \n",
    "prosper = df_clean[['ListingNumber','CreditGrade','Term','LoanStatus','BorrowerAPR','BorrowerRate','LenderYield','ProsperRating (numeric)','ProsperScore','BorrowerState','Occupation','EmploymentStatus','EmploymentStatusDuration','LoanNumber','LoanOriginalAmount','IncomeRange','StatedMonthlyIncome','PercentFunded','InvestmentFromFriendsCount','InvestmentFromFriendsAmount','Investors','ProsperRating (Alpha)','IncomeVerifiable','DelinquenciesLast7Years','AmountDelinquent','DebtToIncomeRatio','CurrentDelinquencies']]"
   ]
  },
  {
   "cell_type": "markdown",
   "metadata": {
    "slideshow": {
     "slide_type": "slide"
    }
   },
   "source": [
    "\n",
    "### Dataset Overview\n",
    "There are 113937 rows and 81 columns, most variables data types are in objects, int, float,and bool.\n",
    "from 81 columns, i choosed only 26 columns only,removed duplicated entry from the datasets that makes sure data clean,so of tidy issues are not solved because of data size.\n",
    "\n",
    "### Investigation Overview\n",
    "While Investigation of dataset, more focused on CreditGrade , Term , LoanStatus, BorrowerAPR and etc, this investigation more helpful for first time applying loans on prosper and how is loan proposal is selected, so this things decipted in form of charts like hist, scatter, bar charts so on."
   ]
  },
  {
   "cell_type": "markdown",
   "metadata": {
    "slideshow": {
     "slide_type": "skip"
    }
   },
   "source": [
    "### What is/are the main feature(s) of interest in your dataset?\n",
    "Interested more on borrower_rate, Loan_original_amount,and LenderYield and etc"
   ]
  },
  {
   "cell_type": "markdown",
   "metadata": {
    "slideshow": {
     "slide_type": "skip"
    }
   },
   "source": [
    "### Data Wrangling"
   ]
  },
  {
   "cell_type": "markdown",
   "metadata": {
    "slideshow": {
     "slide_type": "skip"
    }
   },
   "source": [
    "1) Drop the duplicates"
   ]
  },
  {
   "cell_type": "markdown",
   "metadata": {
    "slideshow": {
     "slide_type": "skip"
    }
   },
   "source": [
    "#### Code"
   ]
  },
  {
   "cell_type": "code",
   "execution_count": 14,
   "metadata": {
    "slideshow": {
     "slide_type": "skip"
    }
   },
   "outputs": [
    {
     "data": {
      "text/plain": [
       "0"
      ]
     },
     "execution_count": 14,
     "metadata": {},
     "output_type": "execute_result"
    }
   ],
   "source": [
    "prosper.duplicated().sum()"
   ]
  },
  {
   "cell_type": "code",
   "execution_count": 15,
   "metadata": {
    "slideshow": {
     "slide_type": "skip"
    }
   },
   "outputs": [
    {
     "data": {
      "text/html": [
       "<div>\n",
       "<style scoped>\n",
       "    .dataframe tbody tr th:only-of-type {\n",
       "        vertical-align: middle;\n",
       "    }\n",
       "\n",
       "    .dataframe tbody tr th {\n",
       "        vertical-align: top;\n",
       "    }\n",
       "\n",
       "    .dataframe thead th {\n",
       "        text-align: right;\n",
       "    }\n",
       "</style>\n",
       "<table border=\"1\" class=\"dataframe\">\n",
       "  <thead>\n",
       "    <tr style=\"text-align: right;\">\n",
       "      <th></th>\n",
       "      <th>ListingNumber</th>\n",
       "      <th>CreditGrade</th>\n",
       "      <th>Term</th>\n",
       "      <th>LoanStatus</th>\n",
       "      <th>BorrowerAPR</th>\n",
       "      <th>BorrowerRate</th>\n",
       "      <th>LenderYield</th>\n",
       "      <th>ProsperRating (numeric)</th>\n",
       "      <th>ProsperScore</th>\n",
       "      <th>BorrowerState</th>\n",
       "      <th>...</th>\n",
       "      <th>PercentFunded</th>\n",
       "      <th>InvestmentFromFriendsCount</th>\n",
       "      <th>InvestmentFromFriendsAmount</th>\n",
       "      <th>Investors</th>\n",
       "      <th>ProsperRating (Alpha)</th>\n",
       "      <th>IncomeVerifiable</th>\n",
       "      <th>DelinquenciesLast7Years</th>\n",
       "      <th>AmountDelinquent</th>\n",
       "      <th>DebtToIncomeRatio</th>\n",
       "      <th>CurrentDelinquencies</th>\n",
       "    </tr>\n",
       "  </thead>\n",
       "  <tbody>\n",
       "    <tr>\n",
       "      <th>8</th>\n",
       "      <td>1023355</td>\n",
       "      <td>NaN</td>\n",
       "      <td>36</td>\n",
       "      <td>Current</td>\n",
       "      <td>0.0762</td>\n",
       "      <td>0.0629</td>\n",
       "      <td>0.0529</td>\n",
       "      <td>7.0</td>\n",
       "      <td>9.0</td>\n",
       "      <td>IL</td>\n",
       "      <td>...</td>\n",
       "      <td>1.0</td>\n",
       "      <td>0</td>\n",
       "      <td>0.0</td>\n",
       "      <td>1</td>\n",
       "      <td>AA</td>\n",
       "      <td>True</td>\n",
       "      <td>0.0</td>\n",
       "      <td>0.0</td>\n",
       "      <td>0.25</td>\n",
       "      <td>0.0</td>\n",
       "    </tr>\n",
       "    <tr>\n",
       "      <th>9</th>\n",
       "      <td>1023355</td>\n",
       "      <td>NaN</td>\n",
       "      <td>36</td>\n",
       "      <td>Current</td>\n",
       "      <td>0.0762</td>\n",
       "      <td>0.0629</td>\n",
       "      <td>0.0529</td>\n",
       "      <td>7.0</td>\n",
       "      <td>11.0</td>\n",
       "      <td>IL</td>\n",
       "      <td>...</td>\n",
       "      <td>1.0</td>\n",
       "      <td>0</td>\n",
       "      <td>0.0</td>\n",
       "      <td>1</td>\n",
       "      <td>AA</td>\n",
       "      <td>True</td>\n",
       "      <td>0.0</td>\n",
       "      <td>0.0</td>\n",
       "      <td>0.25</td>\n",
       "      <td>0.0</td>\n",
       "    </tr>\n",
       "  </tbody>\n",
       "</table>\n",
       "<p>2 rows × 27 columns</p>\n",
       "</div>"
      ],
      "text/plain": [
       "   ListingNumber CreditGrade  Term LoanStatus  BorrowerAPR  BorrowerRate  \\\n",
       "8        1023355         NaN    36    Current       0.0762        0.0629   \n",
       "9        1023355         NaN    36    Current       0.0762        0.0629   \n",
       "\n",
       "   LenderYield  ProsperRating (numeric)  ProsperScore BorrowerState  \\\n",
       "8       0.0529                      7.0           9.0            IL   \n",
       "9       0.0529                      7.0          11.0            IL   \n",
       "\n",
       "           ...          PercentFunded InvestmentFromFriendsCount  \\\n",
       "8          ...                    1.0                          0   \n",
       "9          ...                    1.0                          0   \n",
       "\n",
       "   InvestmentFromFriendsAmount  Investors  ProsperRating (Alpha)  \\\n",
       "8                          0.0          1                     AA   \n",
       "9                          0.0          1                     AA   \n",
       "\n",
       "  IncomeVerifiable  DelinquenciesLast7Years  AmountDelinquent  \\\n",
       "8             True                      0.0               0.0   \n",
       "9             True                      0.0               0.0   \n",
       "\n",
       "   DebtToIncomeRatio  CurrentDelinquencies  \n",
       "8               0.25                   0.0  \n",
       "9               0.25                   0.0  \n",
       "\n",
       "[2 rows x 27 columns]"
      ]
     },
     "execution_count": 15,
     "metadata": {},
     "output_type": "execute_result"
    }
   ],
   "source": [
    "#prosper[prosper['ListingNumber'].duplicated()]\n",
    "prosper[prosper['ListingNumber']==1023355]"
   ]
  },
  {
   "cell_type": "code",
   "execution_count": 16,
   "metadata": {
    "slideshow": {
     "slide_type": "skip"
    }
   },
   "outputs": [],
   "source": [
    "prosper.drop_duplicates('ListingNumber',inplace=True)"
   ]
  },
  {
   "cell_type": "markdown",
   "metadata": {
    "slideshow": {
     "slide_type": "skip"
    }
   },
   "source": [
    "#### Test"
   ]
  },
  {
   "cell_type": "code",
   "execution_count": 17,
   "metadata": {
    "slideshow": {
     "slide_type": "skip"
    }
   },
   "outputs": [
    {
     "data": {
      "text/plain": [
       "0"
      ]
     },
     "execution_count": 17,
     "metadata": {},
     "output_type": "execute_result"
    }
   ],
   "source": [
    "prosper.ListingNumber.duplicated().sum()"
   ]
  },
  {
   "cell_type": "code",
   "execution_count": null,
   "metadata": {
    "slideshow": {
     "slide_type": "skip"
    }
   },
   "outputs": [],
   "source": []
  },
  {
   "cell_type": "code",
   "execution_count": 18,
   "metadata": {
    "slideshow": {
     "slide_type": "skip"
    }
   },
   "outputs": [],
   "source": [
    "# Taking average of CreditScoreRangeLower and CreditScoreRangeUpper  for Credit Score\n",
    "prosper['Credit_score'] = df_clean.CreditScoreRangeLower + df_clean.CreditScoreRangeUpper/2"
   ]
  },
  {
   "cell_type": "code",
   "execution_count": null,
   "metadata": {
    "slideshow": {
     "slide_type": "skip"
    }
   },
   "outputs": [],
   "source": []
  },
  {
   "cell_type": "code",
   "execution_count": null,
   "metadata": {
    "slideshow": {
     "slide_type": "skip"
    }
   },
   "outputs": [],
   "source": []
  },
  {
   "cell_type": "markdown",
   "metadata": {
    "slideshow": {
     "slide_type": "skip"
    }
   },
   "source": [
    "#### Univariate Exploration"
   ]
  },
  {
   "cell_type": "code",
   "execution_count": null,
   "metadata": {
    "slideshow": {
     "slide_type": "skip"
    }
   },
   "outputs": [],
   "source": []
  },
  {
   "cell_type": "markdown",
   "metadata": {
    "slideshow": {
     "slide_type": "skip"
    }
   },
   "source": [
    "### 1) What is  Prosper Loan Current Status ?"
   ]
  },
  {
   "cell_type": "code",
   "execution_count": 19,
   "metadata": {
    "slideshow": {
     "slide_type": "skip"
    }
   },
   "outputs": [
    {
     "data": {
      "text/plain": [
       "Current                   55730\n",
       "Completed                 38061\n",
       "Chargedoff                11992\n",
       "Defaulted                  5018\n",
       "Past Due (1-15 days)        800\n",
       "Past Due (31-60 days)       361\n",
       "Past Due (61-90 days)       311\n",
       "Past Due (91-120 days)      304\n",
       "Past Due (16-30 days)       265\n",
       "FinalPaymentInProgress      203\n",
       "Past Due (>120 days)         16\n",
       "Cancelled                     5\n",
       "Name: LoanStatus, dtype: int64"
      ]
     },
     "execution_count": 19,
     "metadata": {},
     "output_type": "execute_result"
    }
   ],
   "source": [
    "prosper.LoanStatus.value_counts()"
   ]
  },
  {
   "cell_type": "markdown",
   "metadata": {
    "slideshow": {
     "slide_type": "slide"
    }
   },
   "source": [
    "## Prosper Loan Status\n",
    "Current active user of loan prosper are 55730, Completed from prosper loan 38061, Chargedoff from prosper loan11992, Defaulted from prosper loan 5018, Past Due (1-15 days) from prosper loan 800, Past Due (31-60 days) from prosper loan 361, Past Due (61-90 days) from prosper loan 311, Past Due (91-120 days) from prosper loan 304, Past Due (16-30 days) from prosper loan 265, FinalPaymentInProgress from prosper loan 203, Past Due (>120 days) from prosper loan 16, Cancelled from prosper loan 5,"
   ]
  },
  {
   "cell_type": "code",
   "execution_count": 20,
   "metadata": {
    "slideshow": {
     "slide_type": "subslide"
    }
   },
   "outputs": [
    {
     "data": {
      "image/png": "[encoded data removed]",
      "text/plain": [
       "<Figure size 432x288 with 1 Axes>"
      ]
     },
     "metadata": {},
     "output_type": "display_data"
    }
   ],
   "source": [
    "sb.countplot(data = prosper,y='LoanStatus');\n",
    "plt.xticks(rotation = 90);\n",
    "plt.title('Prosper Loan status');"
   ]
  },
  {
   "cell_type": "markdown",
   "metadata": {
    "slideshow": {
     "slide_type": "skip"
    }
   },
   "source": [
    "Answer: Status of prosper loan were:\n",
    "Current active user of loan prosper are 55730,\n",
    "Completed  from prosper loan 38061,\n",
    "Chargedoff  from prosper loan11992,\n",
    " Defaulted   from prosper loan 5018,\n",
    "Past Due (1-15 days)  from prosper loan 800,\n",
    "Past Due (31-60 days) from prosper loan  361,\n",
    " Past Due (61-90 days) from prosper loan 311,\n",
    "Past Due (91-120 days)  from prosper loan  304,\n",
    "Past Due (16-30 days)  from prosper loan 265,\n",
    " FinalPaymentInProgress  from prosper loan 203,\n",
    "Past Due (>120 days)  from prosper loan 16,\n",
    "Cancelled  from prosper loan 5,"
   ]
  },
  {
   "cell_type": "markdown",
   "metadata": {
    "slideshow": {
     "slide_type": "skip"
    }
   },
   "source": [
    "### 2)Which types of people uses prosper loan ?"
   ]
  },
  {
   "cell_type": "code",
   "execution_count": 21,
   "metadata": {
    "slideshow": {
     "slide_type": "skip"
    }
   },
   "outputs": [],
   "source": [
    "#sb.countplot(data = prosper,x=prosper.LoanOriginalAmount)"
   ]
  },
  {
   "cell_type": "code",
   "execution_count": 22,
   "metadata": {
    "slideshow": {
     "slide_type": "skip"
    }
   },
   "outputs": [],
   "source": [
    "n = prosper.LoanOriginalAmount.value_counts()"
   ]
  },
  {
   "cell_type": "code",
   "execution_count": 23,
   "metadata": {
    "slideshow": {
     "slide_type": "skip"
    }
   },
   "outputs": [
    {
     "data": {
      "image/png": "[encoded data removed]",
      "text/plain": [
       "<Figure size 1296x1296 with 1 Axes>"
      ]
     },
     "metadata": {},
     "output_type": "display_data"
    }
   ],
   "source": [
    "com = prosper.EmploymentStatus.value_counts()\n",
    "plt.figure(figsize=[18,18],);\n",
    "plt.pie(com,labels=com.index,startangle=90,rotatelabels=True,autopct='%1.1f%%',pctdistance=1.35);"
   ]
  },
  {
   "cell_type": "markdown",
   "metadata": {
    "slideshow": {
     "slide_type": "skip"
    }
   },
   "source": [
    "Answer:employes types of people use more prosper loan of 60.1 and the second highest is full time employes uses around 23.8,and second least user are not employed around 0.8 and least beneficial are retired people around 0.7."
   ]
  },
  {
   "cell_type": "markdown",
   "metadata": {
    "slideshow": {
     "slide_type": "skip"
    }
   },
   "source": [
    "### 3) What kind professinal uses the most prosper loan"
   ]
  },
  {
   "cell_type": "code",
   "execution_count": 24,
   "metadata": {
    "slideshow": {
     "slide_type": "skip"
    }
   },
   "outputs": [],
   "source": [
    "n = prosper.Occupation.value_counts()"
   ]
  },
  {
   "cell_type": "code",
   "execution_count": 25,
   "metadata": {
    "slideshow": {
     "slide_type": "skip"
    }
   },
   "outputs": [
    {
     "name": "stdout",
     "output_type": "stream",
     "text": [
      "113066\n",
      "28422\n",
      "0.25137530292041815\n"
     ]
    }
   ],
   "source": [
    "n_occup = prosper.shape[0]\n",
    "print(n_occup)\n",
    "max_occup = n[0]\n",
    "print(max_occup)\n",
    "max_occup1 = max_occup/n_occup\n",
    "print(max_occup1)"
   ]
  },
  {
   "cell_type": "code",
   "execution_count": 26,
   "metadata": {
    "slideshow": {
     "slide_type": "skip"
    }
   },
   "outputs": [],
   "source": [
    "tick_props = np.arange(0,max_occup1,0.02)\n",
    "tick_names = ['{:0.2f}'.format(v) for v in tick_props]\n"
   ]
  },
  {
   "cell_type": "code",
   "execution_count": 27,
   "metadata": {
    "slideshow": {
     "slide_type": "skip"
    }
   },
   "outputs": [
    {
     "data": {
      "image/png": "[encoded data removed]",
      "text/plain": [
       "<Figure size 1008x1008 with 1 Axes>"
      ]
     },
     "metadata": {},
     "output_type": "display_data"
    }
   ],
   "source": [
    "#order_base = prosper.Occupation.value_counts().index\n",
    "plt.figure(figsize=[14,14])\n",
    "base_color = sb.color_palette()[0]\n",
    "sb.countplot(y=prosper.Occupation,color=base_color,order = n.index);\n",
    "plt.title('finding Ratio for occupation');\n",
    "plt.ylabel('Occupation');\n",
    "plt.xlabel('Ratio for occupation');\n",
    "plt.xticks(tick_props*n_occup,tick_names);\n",
    "counts = prosper.Occupation.value_counts()\n",
    "for i in range(counts.shape[0]):\n",
    "    count = counts[i]\n",
    "    pct_string = '{:0.2f}'.format( count/n_occup)\n",
    "    plt.text(count+2,i,pct_string,va = 'center');"
   ]
  },
  {
   "cell_type": "markdown",
   "metadata": {
    "slideshow": {
     "slide_type": "skip"
    }
   },
   "source": [
    "Answer: The other types of professional uses most prosper loan of around 0.25,The second highest user of Prosper loan is professional, the second lowest is food service management of 0.1 and the least user half of professional ."
   ]
  },
  {
   "cell_type": "markdown",
   "metadata": {
    "slideshow": {
     "slide_type": "skip"
    }
   },
   "source": [
    "### 4) Lender Yield Exploration"
   ]
  },
  {
   "cell_type": "markdown",
   "metadata": {
    "slideshow": {
     "slide_type": "slide"
    }
   },
   "source": [
    "## Lender Yield Exploration\n",
    "Lender Yield Exploration model has huge range of values, the lowest data points lies at 0.0 and 0.35, and highest range of values lies between 0.1 to 0.2,lender Yield exploration model looks like right skewed, plotted on a probabalitc form,"
   ]
  },
  {
   "cell_type": "code",
   "execution_count": 28,
   "metadata": {
    "slideshow": {
     "slide_type": "subslide"
    }
   },
   "outputs": [
    {
     "data": {
      "image/png": "[encoded data removed]",
      "text/plain": [
       "<Figure size 432x288 with 1 Axes>"
      ]
     },
     "metadata": {},
     "output_type": "display_data"
    }
   ],
   "source": [
    "plt.hist(data = prosper,x='LenderYield',bins = 50);\n",
    "plt.title('LenderYield');\n",
    "plt.ylabel('counts');\n",
    "plt.xlabel('LenderYield');"
   ]
  },
  {
   "cell_type": "markdown",
   "metadata": {
    "slideshow": {
     "slide_type": "skip"
    }
   },
   "source": []
  },
  {
   "cell_type": "markdown",
   "metadata": {
    "slideshow": {
     "slide_type": "skip"
    }
   },
   "source": []
  },
  {
   "cell_type": "code",
   "execution_count": 29,
   "metadata": {
    "slideshow": {
     "slide_type": "skip"
    }
   },
   "outputs": [],
   "source": [
    "#prosper.pivot_table(index=['BorrowerState'],values='LoanOriginalAmount')"
   ]
  },
  {
   "cell_type": "code",
   "execution_count": 30,
   "metadata": {
    "slideshow": {
     "slide_type": "skip"
    }
   },
   "outputs": [],
   "source": [
    "#https://stackoverflow.com/questions/42134486/typeerror-pivot-table-got-multiple-values-for-keyword-argument-values\n",
    "#plt.figure(figsize=[])\n",
    "#prosper.pivot_table(index=['BorrowerState'],values='LoanOriginalAmount').plot(kind='bar')\n",
    "#prosper.pivot_table(index=['BorrowerState'],values='LoanOriginalAmount').plot(kind='bar')\n"
   ]
  },
  {
   "cell_type": "markdown",
   "metadata": {
    "slideshow": {
     "slide_type": "skip"
    }
   },
   "source": [
    "### 5) Which state most uses the prosper loan ?"
   ]
  },
  {
   "cell_type": "code",
   "execution_count": 31,
   "metadata": {
    "slideshow": {
     "slide_type": "skip"
    }
   },
   "outputs": [
    {
     "data": {
      "image/png": "[encoded data removed]",
      "text/plain": [
       "<Figure size 720x720 with 1 Axes>"
      ]
     },
     "metadata": {},
     "output_type": "display_data"
    }
   ],
   "source": [
    "plt.figure(figsize=[10,10])\n",
    "base_color = sb.color_palette()[0]\n",
    "sb.countplot(data = prosper,x='BorrowerState');\n",
    "plt.xticks(rotation = 90);\n"
   ]
  },
  {
   "cell_type": "markdown",
   "metadata": {
    "slideshow": {
     "slide_type": "skip"
    }
   },
   "source": [
    "Answer CA state user use most prosper loan around 14250, the second highest user are Tx around 6500,the second least user from Me around 500 and the least user from ND around 100."
   ]
  },
  {
   "cell_type": "markdown",
   "metadata": {
    "slideshow": {
     "slide_type": "skip"
    }
   },
   "source": [
    "### 6)How many accounts verfied from prosper loan ?"
   ]
  },
  {
   "cell_type": "markdown",
   "metadata": {
    "slideshow": {
     "slide_type": "slide"
    }
   },
   "source": [
    "## Income verifiable\n",
    "\n",
    "In prosper loan data there is huge question that, how many loans income verified, around 1000 loans data is not  verified and 100000 is verfied in prosper loan data. "
   ]
  },
  {
   "cell_type": "code",
   "execution_count": 32,
   "metadata": {
    "slideshow": {
     "slide_type": "subslide"
    }
   },
   "outputs": [
    {
     "data": {
      "image/png": "[encoded data removed]",
      "text/plain": [
       "<Figure size 432x288 with 1 Axes>"
      ]
     },
     "metadata": {},
     "output_type": "display_data"
    }
   ],
   "source": [
    "#sb.countplot(df.IncomeVerifiable)\n",
    "\n",
    "sb.countplot(prosper.IncomeVerifiable);\n",
    "plt.title('Income Verifiable');"
   ]
  },
  {
   "cell_type": "markdown",
   "metadata": {
    "slideshow": {
     "slide_type": "skip"
    }
   },
   "source": [
    "Answer: around 10000 accounts are verfied, and 10000 are still not verified"
   ]
  },
  {
   "cell_type": "markdown",
   "metadata": {
    "slideshow": {
     "slide_type": "skip"
    }
   },
   "source": [
    "### 7) From amounts to find which rate of si ?"
   ]
  },
  {
   "cell_type": "code",
   "execution_count": 33,
   "metadata": {
    "slideshow": {
     "slide_type": "skip"
    }
   },
   "outputs": [],
   "source": [
    "#plt.figure(figsize=[10,10])\n",
    "#plt.subplot(2,1,1)\n",
    "#sb.regplot(data = prosper,x='LoanOriginalAmount',y='BorrowerRate',fit_reg=False,x_jitter=1)\n",
    "#plt.title('Comparing the difference between LoanoriginalAmount Vs BorrowerRate')\n",
    "#plt.xlabel('LoanOriginalAmount')\n",
    "#plt.ylabel('BorrowerRate')\n",
    "#plt.show()\n",
    "#plt.subplot(2,1,1)\n",
    "#bins_x = np.arange(1000.000000,prosper.LoanOriginalAmount.max() + 100,2000)\n",
    "#bins_y = np.arange(0.000000,prosper.BorrowerRate.max() + 0.1, 0.05)\n",
    "#plt.hist2d(data = prosper,x='LoanOriginalAmount',y='BorrowerRate',cmin=0.5,cmap = 'viridis_r',bins = [bins_x,bins_y])\n",
    "#plt.title('comparing LoanOriginalAmount vs BorrowerRate')\n",
    "#plt.xlabel('LoanOriginalAmount')\n",
    "#plt.ylabel('BorrowerRate')\n",
    "#plt.colorbar()\n",
    "#plt.show()"
   ]
  },
  {
   "cell_type": "code",
   "execution_count": 34,
   "metadata": {
    "slideshow": {
     "slide_type": "skip"
    }
   },
   "outputs": [
    {
     "data": {
      "image/png": "[encoded data removed]",
      "text/plain": [
       "<Figure size 720x720 with 1 Axes>"
      ]
     },
     "metadata": {},
     "output_type": "display_data"
    }
   ],
   "source": [
    "plt.figure(figsize=[10,10])\n",
    "plt.subplot(2,1,1)\n",
    "sb.regplot(data = prosper,x='LoanOriginalAmount',y='BorrowerRate',fit_reg=False,x_jitter=1);\n",
    "plt.title('Comparing the difference between LoanoriginalAmount Vs BorrowerRate');\n",
    "plt.xlabel('LoanOriginalAmount');\n",
    "plt.ylabel('BorrowerRate');\n",
    "plt.show();"
   ]
  },
  {
   "cell_type": "code",
   "execution_count": 35,
   "metadata": {
    "slideshow": {
     "slide_type": "skip"
    }
   },
   "outputs": [
    {
     "data": {
      "text/html": [
       "<div>\n",
       "<style scoped>\n",
       "    .dataframe tbody tr th:only-of-type {\n",
       "        vertical-align: middle;\n",
       "    }\n",
       "\n",
       "    .dataframe tbody tr th {\n",
       "        vertical-align: top;\n",
       "    }\n",
       "\n",
       "    .dataframe thead th {\n",
       "        text-align: right;\n",
       "    }\n",
       "</style>\n",
       "<table border=\"1\" class=\"dataframe\">\n",
       "  <thead>\n",
       "    <tr style=\"text-align: right;\">\n",
       "      <th></th>\n",
       "      <th>LoanOriginalAmount</th>\n",
       "      <th>BorrowerRate</th>\n",
       "    </tr>\n",
       "  </thead>\n",
       "  <tbody>\n",
       "    <tr>\n",
       "      <th>count</th>\n",
       "      <td>113066.000000</td>\n",
       "      <td>113066.000000</td>\n",
       "    </tr>\n",
       "    <tr>\n",
       "      <th>mean</th>\n",
       "      <td>8314.762307</td>\n",
       "      <td>0.192946</td>\n",
       "    </tr>\n",
       "    <tr>\n",
       "      <th>std</th>\n",
       "      <td>6237.007841</td>\n",
       "      <td>0.074917</td>\n",
       "    </tr>\n",
       "    <tr>\n",
       "      <th>min</th>\n",
       "      <td>1000.000000</td>\n",
       "      <td>0.000000</td>\n",
       "    </tr>\n",
       "    <tr>\n",
       "      <th>25%</th>\n",
       "      <td>4000.000000</td>\n",
       "      <td>0.134000</td>\n",
       "    </tr>\n",
       "    <tr>\n",
       "      <th>50%</th>\n",
       "      <td>6300.000000</td>\n",
       "      <td>0.184000</td>\n",
       "    </tr>\n",
       "    <tr>\n",
       "      <th>75%</th>\n",
       "      <td>12000.000000</td>\n",
       "      <td>0.250600</td>\n",
       "    </tr>\n",
       "    <tr>\n",
       "      <th>max</th>\n",
       "      <td>35000.000000</td>\n",
       "      <td>0.497500</td>\n",
       "    </tr>\n",
       "  </tbody>\n",
       "</table>\n",
       "</div>"
      ],
      "text/plain": [
       "       LoanOriginalAmount   BorrowerRate\n",
       "count       113066.000000  113066.000000\n",
       "mean          8314.762307       0.192946\n",
       "std           6237.007841       0.074917\n",
       "min           1000.000000       0.000000\n",
       "25%           4000.000000       0.134000\n",
       "50%           6300.000000       0.184000\n",
       "75%          12000.000000       0.250600\n",
       "max          35000.000000       0.497500"
      ]
     },
     "execution_count": 35,
     "metadata": {},
     "output_type": "execute_result"
    }
   ],
   "source": [
    "prosper[['LoanOriginalAmount','BorrowerRate']].describe()"
   ]
  },
  {
   "cell_type": "markdown",
   "metadata": {
    "slideshow": {
     "slide_type": "slide"
    }
   },
   "source": [
    "## comparing LoanOriginalAmount vs BorrowerRate\n",
    "\n",
    "LoanOriginalAmount vs Borrowerrate has huge data,intially used scatter plot answer this, but of points are overlapped, so I used hist2d, this chart predict the Borrower Rate of interset with Loan Orginal Amount, for 5000 loan amount most of points lies between 0.2 to 0.35, for 10000 most of points lies between 0.1 to 0.25, for 15000 most of points lies between 0.1 to 0.2, according to this chart when ever loan amount increases Borrower Rate decreases, this may due to small amount of people get large loan amounts."
   ]
  },
  {
   "cell_type": "code",
   "execution_count": 36,
   "metadata": {
    "slideshow": {
     "slide_type": "subslide"
    }
   },
   "outputs": [
    {
     "data": {
      "image/png": "[encoded data removed]",
      "text/plain": [
       "<Figure size 432x288 with 2 Axes>"
      ]
     },
     "metadata": {},
     "output_type": "display_data"
    }
   ],
   "source": [
    "bins_x = np.arange(1000.000000,prosper.LoanOriginalAmount.max() + 100,2000)\n",
    "bins_y = np.arange(0.000000,prosper.BorrowerRate.max() + 0.1, 0.05)\n",
    "plt.hist2d(data = prosper,x='LoanOriginalAmount',y='BorrowerRate',cmin=0.5,cmap = 'viridis_r',bins = [bins_x,bins_y]);\n",
    "plt.title('comparing LoanOriginalAmount vs BorrowerRate');\n",
    "plt.xlabel('LoanOriginalAmount');\n",
    "plt.ylabel('BorrowerRate');\n",
    "plt.colorbar();\n",
    "plt.show();"
   ]
  },
  {
   "cell_type": "markdown",
   "metadata": {
    "slideshow": {
     "slide_type": "skip"
    }
   },
   "source": []
  },
  {
   "cell_type": "markdown",
   "metadata": {
    "slideshow": {
     "slide_type": "skip"
    }
   },
   "source": [
    "### Bivariate Exploration"
   ]
  },
  {
   "cell_type": "code",
   "execution_count": 37,
   "metadata": {
    "slideshow": {
     "slide_type": "skip"
    }
   },
   "outputs": [],
   "source": [
    "#df_clean.CreditScoreRangeUpper"
   ]
  },
  {
   "cell_type": "markdown",
   "metadata": {
    "slideshow": {
     "slide_type": "skip"
    }
   },
   "source": [
    "### 7) Relationship between DelinquenciesLast7Years V/s AmountDelinquent"
   ]
  },
  {
   "cell_type": "code",
   "execution_count": 38,
   "metadata": {
    "slideshow": {
     "slide_type": "skip"
    }
   },
   "outputs": [
    {
     "data": {
      "image/png": "[encoded data removed]",
      "text/plain": [
       "<Figure size 432x288 with 1 Axes>"
      ]
     },
     "metadata": {},
     "output_type": "display_data"
    }
   ],
   "source": [
    "sb.regplot(data = prosper, x='DelinquenciesLast7Years',y='AmountDelinquent',fit_reg=False,scatter_kws={'alpha':1/5},x_jitter=0.3);\n",
    "plt.title('DelinquenciesLast7year and AmountDelinquent');"
   ]
  },
  {
   "cell_type": "markdown",
   "metadata": {
    "slideshow": {
     "slide_type": "skip"
    }
   },
   "source": [
    "Answer: in this relationship most of points when ever Delinquencielast7years increase amountDelinquent decreases"
   ]
  },
  {
   "cell_type": "markdown",
   "metadata": {
    "slideshow": {
     "slide_type": "skip"
    }
   },
   "source": [
    "### 8) Correlation between Credit_score,BorrowerAPR,DelinquenciesLast7Years,AmountDelinquent,CurrentDelinquencies"
   ]
  },
  {
   "cell_type": "code",
   "execution_count": 39,
   "metadata": {
    "slideshow": {
     "slide_type": "skip"
    }
   },
   "outputs": [],
   "source": [
    "var = ['Credit_score','BorrowerAPR','DelinquenciesLast7Years','AmountDelinquent','CurrentDelinquencies']"
   ]
  },
  {
   "cell_type": "code",
   "execution_count": 40,
   "metadata": {
    "slideshow": {
     "slide_type": "skip"
    }
   },
   "outputs": [
    {
     "data": {
      "text/plain": [
       "Text(0.5,1,'Relationship betweens varibable')"
      ]
     },
     "execution_count": 40,
     "metadata": {},
     "output_type": "execute_result"
    },
    {
     "data": {
      "image/png": "[encoded data removed]",
      "text/plain": [
       "<Figure size 432x288 with 2 Axes>"
      ]
     },
     "metadata": {},
     "output_type": "display_data"
    }
   ],
   "source": [
    "sb.heatmap(prosper[var].corr(),annot = True,fmt='.3f',cmap = 'vlag_r', center = 0);\n",
    "plt.title('Relationship betweens varibable')"
   ]
  },
  {
   "cell_type": "markdown",
   "metadata": {
    "slideshow": {
     "slide_type": "skip"
    }
   },
   "source": [
    "Answer: the above chart tends the correlation ship Credit_score','BorrowerAPR','DelinquenciesLast7Years','AmountDelinquent','CurrentDelinquencies"
   ]
  },
  {
   "cell_type": "markdown",
   "metadata": {
    "slideshow": {
     "slide_type": "skip"
    }
   },
   "source": [
    "### 9) which types employementStatus have highest prosper score"
   ]
  },
  {
   "cell_type": "code",
   "execution_count": 41,
   "metadata": {
    "slideshow": {
     "slide_type": "skip"
    }
   },
   "outputs": [
    {
     "data": {
      "image/png": "[encoded data removed]",
      "text/plain": [
       "<Figure size 432x288 with 1 Axes>"
      ]
     },
     "metadata": {},
     "output_type": "display_data"
    }
   ],
   "source": [
    "sb.boxplot(data = prosper, x='EmploymentStatus',y='ProsperScore');\n",
    "plt.xticks(rotation = 60);\n",
    "plt.title('Checking ProsperScore for EmploymentStatus');\n",
    "plt.xlabel('EmploymentStatus');\n",
    "plt.ylabel('ProsperScore');"
   ]
  },
  {
   "cell_type": "markdown",
   "metadata": {
    "slideshow": {
     "slide_type": "skip"
    }
   },
   "source": [
    ";Answer: Employed employer status have highest propser score of around 12, and the second highest is full time emplyer status of 11, the second lowest of prosper score is retired,part time of around 10,the least score is for not employed"
   ]
  },
  {
   "cell_type": "markdown",
   "metadata": {
    "slideshow": {
     "slide_type": "skip"
    }
   },
   "source": [
    "### 10) checking credit grade for orginial amount"
   ]
  },
  {
   "cell_type": "code",
   "execution_count": 42,
   "metadata": {
    "slideshow": {
     "slide_type": "skip"
    }
   },
   "outputs": [
    {
     "data": {
      "image/png": "[encoded data removed]",
      "text/plain": [
       "<Figure size 648x648 with 8 Axes>"
      ]
     },
     "metadata": {},
     "output_type": "display_data"
    }
   ],
   "source": [
    "g = sb.FacetGrid(data = prosper,col ='CreditGrade',col_wrap=3);\n",
    "g.map(plt.hist,'LoanOriginalAmount');"
   ]
  },
  {
   "cell_type": "markdown",
   "metadata": {
    "slideshow": {
     "slide_type": "skip"
    }
   },
   "source": [
    "Answer: above plot credit grade for orginial amount,most of credit grade are from D"
   ]
  },
  {
   "cell_type": "markdown",
   "metadata": {
    "slideshow": {
     "slide_type": "skip"
    }
   },
   "source": [
    "### Multivariate Exploration"
   ]
  },
  {
   "cell_type": "markdown",
   "metadata": {
    "slideshow": {
     "slide_type": "skip"
    }
   },
   "source": [
    "### 11) relationship between CurrentDelinquencies,Borrower and BorrowerRate"
   ]
  },
  {
   "cell_type": "code",
   "execution_count": 43,
   "metadata": {
    "scrolled": true,
    "slideshow": {
     "slide_type": "skip"
    }
   },
   "outputs": [
    {
     "data": {
      "image/png": "[encoded data removed]",
      "text/plain": [
       "<Figure size 432x288 with 2 Axes>"
      ]
     },
     "metadata": {},
     "output_type": "display_data"
    }
   ],
   "source": [
    "plt.scatter(data = prosper,x='CurrentDelinquencies',y='BorrowerAPR',c='BorrowerRate');\n",
    "plt.colorbar(label='BorrowerRate');\n",
    "plt.xlabel('CurrentDelinquencies');\n",
    "plt.ylabel('BorrowerAPR');\n",
    "plt.title('Comparsion between CurrentDelinquencies,Borrower and BorrowerRate');"
   ]
  },
  {
   "cell_type": "markdown",
   "metadata": {
    "slideshow": {
     "slide_type": "skip"
    }
   },
   "source": [
    "This is an observation chart, this chart will idea between current delinquencies,BorrowerApr, with BorrowerRate.CurrentDelinquencies(Number of accounts delinquent at the time the credit profile was pulled.)borrowerApr(BorrowerAPR The Borrower's Annual Percentage Rate (APR) for the loan.), BorrowerRate(The Borrower's interest rate for this loan.), if accounts delinquent credit profile pulled how does affect BorrowerApr and borrower rate,\n",
    "it seems whenever currentDelinquencies increases BorrowerApr and borrower rate decrease"
   ]
  },
  {
   "cell_type": "markdown",
   "metadata": {
    "slideshow": {
     "slide_type": "skip"
    }
   },
   "source": [
    "### 12) income verifiable for upto what extend of loan amounts ?"
   ]
  },
  {
   "cell_type": "code",
   "execution_count": 44,
   "metadata": {
    "slideshow": {
     "slide_type": "skip"
    }
   },
   "outputs": [
    {
     "data": {
      "image/png": "[encoded data removed]",
      "text/plain": [
       "<Figure size 720x720 with 1 Axes>"
      ]
     },
     "metadata": {},
     "output_type": "display_data"
    }
   ],
   "source": [
    "plt.figure(figsize=[10,10]);\n",
    "sb.boxplot(data = prosper,x='IncomeRange',y='LoanOriginalAmount',hue = 'IncomeVerifiable');\n",
    "\n",
    "plt.xticks(rotation = 60);"
   ]
  },
  {
   "cell_type": "markdown",
   "metadata": {
    "slideshow": {
     "slide_type": "skip"
    }
   },
   "source": [
    "This chart is case study format, in this chart to what extent income profile is verified, whenever loan amount increases the income profile is validated in most of the condition, for applying loan amount of 100000 most of accounts are verified, and for not employed loans are issued from above chart above chart tends that, for not employed loans are stationed around 10000 for not income verified."
   ]
  },
  {
   "cell_type": "markdown",
   "metadata": {
    "slideshow": {
     "slide_type": "skip"
    }
   },
   "source": [
    "### 13) Most Loan eligible candiate"
   ]
  },
  {
   "cell_type": "code",
   "execution_count": 45,
   "metadata": {
    "slideshow": {
     "slide_type": "skip"
    }
   },
   "outputs": [
    {
     "data": {
      "image/png": "[encoded data removed]",
      "text/plain": [
       "<Figure size 864x864 with 1 Axes>"
      ]
     },
     "metadata": {},
     "output_type": "display_data"
    }
   ],
   "source": [
    "plt.figure(figsize=[12,12]);\n",
    "sb.countplot(data = prosper,x='LoanStatus',hue='IncomeRange');\n",
    "plt.xticks(rotation = 90);\n",
    "plt.legend(loc = 'upper right');"
   ]
  },
  {
   "cell_type": "markdown",
   "metadata": {
    "slideshow": {
     "slide_type": "skip"
    }
   },
   "source": [
    "This chart tends who is most eligible for prospering loans, in most completed are salaried range of 25000 - 49999, second highest salary range of 50000-74999 are most eligible for prospering loans,current most are from 50000-74999, and most from past due are  50000-74999 this range category of people, according to this chart most of all eligible, but when comes completed 25000 - 49999 this range category completed the prosper loan."
   ]
  },
  {
   "cell_type": "markdown",
   "metadata": {
    "slideshow": {
     "slide_type": "skip"
    }
   },
   "source": [
    "### Reflection\n",
    "Exploring the PROSPER loan dataset was really interesting. I discovered many insights about the peer-to-peer lending which I wasn’t aware of. In fact this type of lending in Europe is not at all common. The main difficulties that I encountered during this project were related to the variable selection that I did. I wanted to explore the categorical variables of this dataset mainly because I haven’t been exposed to this type of data analysis in the past and learning to do so would be useful.he most common pattern throught out this dataset exploration is that PROSPER had a difficult time during the first years of it’s operation and a part of it can be attributed to the financial crisis that unfolded after 2008. Nevertheless, it seems that their credit rating system wasn’t at all optimal because more than 1/3 of their loans defaulted during 2005-2008. So it is not strange that the SEC imposed a cease and desist order on PROSPER from the end of November 2008 till July 2009. Moving after the SEC order PROSPER managed to fix its credit rating system and the default rates were normalised to fairly acceptable rates.\n",
    "\n",
    "To this end adding a model that forecasts which loans will default on the PROSPER platform is certainly feasible. We could use the variables that were explored in this project and seemed to be related with the default ratio. This is something that I will definetely try to do in the future."
   ]
  },
  {
   "cell_type": "code",
   "execution_count": null,
   "metadata": {
    "slideshow": {
     "slide_type": "skip"
    }
   },
   "outputs": [],
   "source": []
  }
 ],
 "metadata": {
  "celltoolbar": "Slideshow",
  "kernelspec": {
   "display_name": "Python 3",
   "language": "python",
   "name": "python3"
  },
  "language_info": {
   "codemirror_mode": {
    "name": "ipython",
    "version": 3
   },
   "file_extension": ".py",
   "mimetype": "text/x-python",
   "name": "python",
   "nbconvert_exporter": "python",
   "pygments_lexer": "ipython3",
   "version": "3.6.2"
  }
 },
 "nbformat": 4,
 "nbformat_minor": 2
}
